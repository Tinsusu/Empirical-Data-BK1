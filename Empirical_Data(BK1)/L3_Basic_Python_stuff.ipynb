{
 "cells": [
  {
   "cell_type": "markdown",
   "metadata": {},
   "source": [
    "# Exercise 3.1\n",
    "## Make a bar plot of 182 poinsettias"
   ]
  },
  {
   "cell_type": "code",
   "execution_count": 1,
   "metadata": {},
   "outputs": [],
   "source": [
    "import pandas as pd\n",
    "import matplotlib.pyplot as plt\n",
    "%matplotlib inline\n",
    "plt.style.use('classic')\n",
    "import pandas as pd\n",
    "import matplotlib.pyplot as plt\n",
    "%matplotlib inline"
   ]
  },
  {
   "cell_type": "code",
   "execution_count": 11,
   "metadata": {},
   "outputs": [
    {
     "data": {
      "text/html": [
       "<div>\n",
       "<style scoped>\n",
       "    .dataframe tbody tr th:only-of-type {\n",
       "        vertical-align: middle;\n",
       "    }\n",
       "\n",
       "    .dataframe tbody tr th {\n",
       "        vertical-align: top;\n",
       "    }\n",
       "\n",
       "    .dataframe thead th {\n",
       "        text-align: right;\n",
       "    }\n",
       "</style>\n",
       "<table border=\"1\" class=\"dataframe\">\n",
       "  <thead>\n",
       "    <tr style=\"text-align: right;\">\n",
       "      <th></th>\n",
       "      <th>Freq</th>\n",
       "    </tr>\n",
       "    <tr>\n",
       "      <th>Color</th>\n",
       "      <th></th>\n",
       "    </tr>\n",
       "  </thead>\n",
       "  <tbody>\n",
       "    <tr>\n",
       "      <th>Red</th>\n",
       "      <td>108</td>\n",
       "    </tr>\n",
       "    <tr>\n",
       "      <th>Pink</th>\n",
       "      <td>34</td>\n",
       "    </tr>\n",
       "    <tr>\n",
       "      <th>White</th>\n",
       "      <td>40</td>\n",
       "    </tr>\n",
       "  </tbody>\n",
       "</table>\n",
       "</div>"
      ],
      "text/plain": [
       "       Freq\n",
       "Color      \n",
       "Red     108\n",
       "Pink     34\n",
       "White    40"
      ]
     },
     "execution_count": 11,
     "metadata": {},
     "output_type": "execute_result"
    }
   ],
   "source": [
    "df=pd.read_csv('poinsettias.csv',index_col='Color')\n",
    "df"
   ]
  },
  {
   "cell_type": "code",
   "execution_count": 2,
   "metadata": {},
   "outputs": [
    {
     "data": {
      "text/html": [
       "<div>\n",
       "<style scoped>\n",
       "    .dataframe tbody tr th:only-of-type {\n",
       "        vertical-align: middle;\n",
       "    }\n",
       "\n",
       "    .dataframe tbody tr th {\n",
       "        vertical-align: top;\n",
       "    }\n",
       "\n",
       "    .dataframe thead th {\n",
       "        text-align: right;\n",
       "    }\n",
       "</style>\n",
       "<table border=\"1\" class=\"dataframe\">\n",
       "  <thead>\n",
       "    <tr style=\"text-align: right;\">\n",
       "      <th></th>\n",
       "      <th>Color</th>\n",
       "      <th>Freq</th>\n",
       "    </tr>\n",
       "  </thead>\n",
       "  <tbody>\n",
       "    <tr>\n",
       "      <th>0</th>\n",
       "      <td>Red</td>\n",
       "      <td>108</td>\n",
       "    </tr>\n",
       "    <tr>\n",
       "      <th>1</th>\n",
       "      <td>Pink</td>\n",
       "      <td>34</td>\n",
       "    </tr>\n",
       "    <tr>\n",
       "      <th>2</th>\n",
       "      <td>White</td>\n",
       "      <td>40</td>\n",
       "    </tr>\n",
       "  </tbody>\n",
       "</table>\n",
       "</div>"
      ],
      "text/plain": [
       "   Color  Freq\n",
       "0    Red   108\n",
       "1   Pink    34\n",
       "2  White    40"
      ]
     },
     "execution_count": 2,
     "metadata": {},
     "output_type": "execute_result"
    }
   ],
   "source": [
    "df=pd.read_csv('poinsettias.csv')\n",
    "df"
   ]
  },
  {
   "cell_type": "code",
   "execution_count": 3,
   "metadata": {},
   "outputs": [
    {
     "data": {
      "text/html": [
       "<div>\n",
       "<style scoped>\n",
       "    .dataframe tbody tr th:only-of-type {\n",
       "        vertical-align: middle;\n",
       "    }\n",
       "\n",
       "    .dataframe tbody tr th {\n",
       "        vertical-align: top;\n",
       "    }\n",
       "\n",
       "    .dataframe thead th {\n",
       "        text-align: right;\n",
       "    }\n",
       "</style>\n",
       "<table border=\"1\" class=\"dataframe\">\n",
       "  <thead>\n",
       "    <tr style=\"text-align: right;\">\n",
       "      <th></th>\n",
       "      <th>Color</th>\n",
       "      <th>Freq</th>\n",
       "    </tr>\n",
       "  </thead>\n",
       "  <tbody>\n",
       "    <tr>\n",
       "      <th>0</th>\n",
       "      <td>Red</td>\n",
       "      <td>108</td>\n",
       "    </tr>\n",
       "    <tr>\n",
       "      <th>1</th>\n",
       "      <td>Pink</td>\n",
       "      <td>34</td>\n",
       "    </tr>\n",
       "    <tr>\n",
       "      <th>2</th>\n",
       "      <td>White</td>\n",
       "      <td>40</td>\n",
       "    </tr>\n",
       "  </tbody>\n",
       "</table>\n",
       "</div>"
      ],
      "text/plain": [
       "   Color  Freq\n",
       "0    Red   108\n",
       "1   Pink    34\n",
       "2  White    40"
      ]
     },
     "execution_count": 3,
     "metadata": {},
     "output_type": "execute_result"
    }
   ],
   "source": [
    "df_copy = df.copy()\n",
    "df_copy"
   ]
  },
  {
   "cell_type": "code",
   "execution_count": 4,
   "metadata": {},
   "outputs": [
    {
     "data": {
      "text/html": [
       "<div>\n",
       "<style scoped>\n",
       "    .dataframe tbody tr th:only-of-type {\n",
       "        vertical-align: middle;\n",
       "    }\n",
       "\n",
       "    .dataframe tbody tr th {\n",
       "        vertical-align: top;\n",
       "    }\n",
       "\n",
       "    .dataframe thead th {\n",
       "        text-align: right;\n",
       "    }\n",
       "</style>\n",
       "<table border=\"1\" class=\"dataframe\">\n",
       "  <thead>\n",
       "    <tr style=\"text-align: right;\">\n",
       "      <th></th>\n",
       "      <th>a</th>\n",
       "      <th>c</th>\n",
       "    </tr>\n",
       "  </thead>\n",
       "  <tbody>\n",
       "    <tr>\n",
       "      <th>0</th>\n",
       "      <td>Red</td>\n",
       "      <td>108</td>\n",
       "    </tr>\n",
       "    <tr>\n",
       "      <th>1</th>\n",
       "      <td>Pink</td>\n",
       "      <td>34</td>\n",
       "    </tr>\n",
       "    <tr>\n",
       "      <th>2</th>\n",
       "      <td>White</td>\n",
       "      <td>40</td>\n",
       "    </tr>\n",
       "  </tbody>\n",
       "</table>\n",
       "</div>"
      ],
      "text/plain": [
       "       a    c\n",
       "0    Red  108\n",
       "1   Pink   34\n",
       "2  White   40"
      ]
     },
     "execution_count": 4,
     "metadata": {},
     "output_type": "execute_result"
    }
   ],
   "source": [
    "df_copy.rename(columns={\"Color\": \"a\", \"Freq\": \"c\"})"
   ]
  },
  {
   "cell_type": "code",
   "execution_count": 5,
   "metadata": {},
   "outputs": [],
   "source": [
    "rename = df_copy.rename(columns={\"Color\": \"a\", \"Freq\": \"c\"})"
   ]
  },
  {
   "cell_type": "code",
   "execution_count": 6,
   "metadata": {},
   "outputs": [
    {
     "data": {
      "text/html": [
       "<div>\n",
       "<style scoped>\n",
       "    .dataframe tbody tr th:only-of-type {\n",
       "        vertical-align: middle;\n",
       "    }\n",
       "\n",
       "    .dataframe tbody tr th {\n",
       "        vertical-align: top;\n",
       "    }\n",
       "\n",
       "    .dataframe thead th {\n",
       "        text-align: right;\n",
       "    }\n",
       "</style>\n",
       "<table border=\"1\" class=\"dataframe\">\n",
       "  <thead>\n",
       "    <tr style=\"text-align: right;\">\n",
       "      <th></th>\n",
       "      <th>a</th>\n",
       "      <th>c</th>\n",
       "    </tr>\n",
       "  </thead>\n",
       "  <tbody>\n",
       "    <tr>\n",
       "      <th>0</th>\n",
       "      <td>Red</td>\n",
       "      <td>108</td>\n",
       "    </tr>\n",
       "    <tr>\n",
       "      <th>1</th>\n",
       "      <td>Pink</td>\n",
       "      <td>34</td>\n",
       "    </tr>\n",
       "    <tr>\n",
       "      <th>2</th>\n",
       "      <td>White</td>\n",
       "      <td>40</td>\n",
       "    </tr>\n",
       "  </tbody>\n",
       "</table>\n",
       "</div>"
      ],
      "text/plain": [
       "       a    c\n",
       "0    Red  108\n",
       "1   Pink   34\n",
       "2  White   40"
      ]
     },
     "execution_count": 6,
     "metadata": {},
     "output_type": "execute_result"
    }
   ],
   "source": [
    "rename"
   ]
  },
  {
   "cell_type": "code",
   "execution_count": 12,
   "metadata": {},
   "outputs": [
    {
     "data": {
      "text/html": [
       "<div>\n",
       "<style scoped>\n",
       "    .dataframe tbody tr th:only-of-type {\n",
       "        vertical-align: middle;\n",
       "    }\n",
       "\n",
       "    .dataframe tbody tr th {\n",
       "        vertical-align: top;\n",
       "    }\n",
       "\n",
       "    .dataframe thead th {\n",
       "        text-align: right;\n",
       "    }\n",
       "</style>\n",
       "<table border=\"1\" class=\"dataframe\">\n",
       "  <thead>\n",
       "    <tr style=\"text-align: right;\">\n",
       "      <th></th>\n",
       "      <th>Freq</th>\n",
       "      <th>Relative Freq</th>\n",
       "    </tr>\n",
       "    <tr>\n",
       "      <th>Color</th>\n",
       "      <th></th>\n",
       "      <th></th>\n",
       "    </tr>\n",
       "  </thead>\n",
       "  <tbody>\n",
       "    <tr>\n",
       "      <th>Red</th>\n",
       "      <td>108</td>\n",
       "      <td>0.593407</td>\n",
       "    </tr>\n",
       "    <tr>\n",
       "      <th>Pink</th>\n",
       "      <td>34</td>\n",
       "      <td>0.186813</td>\n",
       "    </tr>\n",
       "    <tr>\n",
       "      <th>White</th>\n",
       "      <td>40</td>\n",
       "      <td>0.219780</td>\n",
       "    </tr>\n",
       "  </tbody>\n",
       "</table>\n",
       "</div>"
      ],
      "text/plain": [
       "       Freq  Relative Freq\n",
       "Color                     \n",
       "Red     108       0.593407\n",
       "Pink     34       0.186813\n",
       "White    40       0.219780"
      ]
     },
     "execution_count": 12,
     "metadata": {},
     "output_type": "execute_result"
    }
   ],
   "source": [
    "df['Relative Freq']=df['Freq']/df['Freq'].sum()\n",
    "df"
   ]
  },
  {
   "cell_type": "code",
   "execution_count": 13,
   "metadata": {},
   "outputs": [
    {
     "data": {
      "text/html": [
       "<div>\n",
       "<style scoped>\n",
       "    .dataframe tbody tr th:only-of-type {\n",
       "        vertical-align: middle;\n",
       "    }\n",
       "\n",
       "    .dataframe tbody tr th {\n",
       "        vertical-align: top;\n",
       "    }\n",
       "\n",
       "    .dataframe thead th {\n",
       "        text-align: right;\n",
       "    }\n",
       "</style>\n",
       "<table border=\"1\" class=\"dataframe\">\n",
       "  <thead>\n",
       "    <tr style=\"text-align: right;\">\n",
       "      <th></th>\n",
       "      <th>Freq</th>\n",
       "      <th>Relative Freq</th>\n",
       "      <th>Percentage</th>\n",
       "    </tr>\n",
       "    <tr>\n",
       "      <th>Color</th>\n",
       "      <th></th>\n",
       "      <th></th>\n",
       "      <th></th>\n",
       "    </tr>\n",
       "  </thead>\n",
       "  <tbody>\n",
       "    <tr>\n",
       "      <th>Red</th>\n",
       "      <td>108</td>\n",
       "      <td>0.593407</td>\n",
       "      <td>59.340659</td>\n",
       "    </tr>\n",
       "    <tr>\n",
       "      <th>Pink</th>\n",
       "      <td>34</td>\n",
       "      <td>0.186813</td>\n",
       "      <td>18.681319</td>\n",
       "    </tr>\n",
       "    <tr>\n",
       "      <th>White</th>\n",
       "      <td>40</td>\n",
       "      <td>0.219780</td>\n",
       "      <td>21.978022</td>\n",
       "    </tr>\n",
       "  </tbody>\n",
       "</table>\n",
       "</div>"
      ],
      "text/plain": [
       "       Freq  Relative Freq  Percentage\n",
       "Color                                 \n",
       "Red     108       0.593407   59.340659\n",
       "Pink     34       0.186813   18.681319\n",
       "White    40       0.219780   21.978022"
      ]
     },
     "execution_count": 13,
     "metadata": {},
     "output_type": "execute_result"
    }
   ],
   "source": [
    "df['Percentage']= df['Relative Freq']*100\n",
    "df"
   ]
  },
  {
   "cell_type": "code",
   "execution_count": 20,
   "metadata": {},
   "outputs": [
    {
     "data": {
      "image/png": "[encoded data removed]",
      "text/plain": [
       "<Figure size 720x144 with 3 Axes>"
      ]
     },
     "metadata": {
      "needs_background": "light"
     },
     "output_type": "display_data"
    }
   ],
   "source": [
    "fig, ax=plt.subplots(1,3, figsize=(10,2), sharex=True)\n",
    "df['Freq'].plot(kind='bar',color=['Red', 'pink', 'white'],\n",
    "                ax=ax[0], title='Freq')\n",
    "df['Relative Freq'].plot(kind='bar',color=['Red', 'pink', 'white'],\n",
    "                ax=ax[1], title='Relative Freq')\n",
    "df['Percentage'].plot(kind='bar',color=['Red', 'pink', 'white'],\n",
    "                ax=ax[2], title='Percentage')\n",
    "plt.show()\n"
   ]
  },
  {
   "cell_type": "markdown",
   "metadata": {},
   "source": [
    "# Exercise 3.2 Make a dot plot"
   ]
  },
  {
   "cell_type": "markdown",
   "metadata": {},
   "source": [
    "## 1.Make a dot plot of the infant mortality rate data discussed in the chapter. See Table 3.2 (page 23) and code block below."
   ]
  },
  {
   "cell_type": "code",
   "execution_count": 2,
   "metadata": {},
   "outputs": [
    {
     "data": {
      "image/png": "[encoded data removed]",
      "text/plain": [
       "<Figure size 432x36 with 1 Axes>"
      ]
     },
     "metadata": {
      "needs_background": "light"
     },
     "output_type": "display_data"
    }
   ],
   "source": [
    "import pandas as pd\n",
    "import matplotlib.pyplot as plt\n",
    "%matplotlib inline \n",
    "#plt.style.use('classic')\n",
    "# Series with data.\n",
    "series = pd.Series(\n",
    "name = ' Infant mortality rate ' ,\n",
    "data = [11.4, 44.7, 22.6, 7.7, 18.9, 20.9,\n",
    "30.0 , 24.7 , 28.6 , 18.8 , 11.3 , 26.5]\n",
    ")\n",
    "plt.figure(figsize=[6, 0.5]) \n",
    "plt.plot(series,series*0,'o')\n",
    "plt.yticks([])\n",
    "plt.xlim(10,32)\n",
    "\n",
    "plt.xlabel('Infant mortality rate in percent')\n",
    "plt.show()"
   ]
  },
  {
   "cell_type": "markdown",
   "metadata": {},
   "source": [
    "## 2. Change the code to make adot plot ATP"
   ]
  },
  {
   "cell_type": "code",
   "execution_count": 3,
   "metadata": {},
   "outputs": [
    {
     "data": {
      "image/png": "[encoded data removed]",
      "text/plain": [
       "<Figure size 432x36 with 1 Axes>"
      ]
     },
     "metadata": {
      "needs_background": "light"
     },
     "output_type": "display_data"
    }
   ],
   "source": [
    "import pandas as pd\n",
    "import matplotlib . pyplot as plt\n",
    "%matplotlib inline \n",
    "series = pd.Series(\n",
    "    name = 'Flooded',\n",
    "    data = [1.45, 1.19 ,1.05,1.07])\n",
    "\n",
    "series1 = pd.Series(\n",
    "    name = 'Control',\n",
    "    data = [1.4,2.4,6.1,5.5])\n",
    "\n",
    "\n",
    "plt.figure(figsize=[6, 0.5]) \n",
    "plt.plot(series,series*0,'o')\n",
    "plt.plot(series1,series1*0+1,'o')\n",
    "plt.yticks([])\n",
    "plt.xlim(0,7)\n",
    "plt.ylim(-0.5,1.5)\n",
    "plt.xlabel('ATP')\n",
    "plt.show()"
   ]
  },
  {
   "cell_type": "markdown",
   "metadata": {},
   "source": [
    "# Exercise 3.3 Present data from research life sciences"
   ]
  },
  {
   "cell_type": "markdown",
   "metadata": {},
   "source": [
    "## 1. Investigate the data in table 3.7 about corn:"
   ]
  },
  {
   "cell_type": "markdown",
   "metadata": {},
   "source": [
    "### a) Construc dot plot of the data."
   ]
  },
  {
   "cell_type": "code",
   "execution_count": 41,
   "metadata": {},
   "outputs": [
    {
     "data": {
      "image/png": "[encoded data removed]",
      "text/plain": [
       "<Figure size 432x36 with 1 Axes>"
      ]
     },
     "metadata": {
      "needs_background": "light"
     },
     "output_type": "display_data"
    }
   ],
   "source": [
    "import pandas as pd\n",
    "import numpy as np\n",
    "import matplotlib.pyplot as plt\n",
    "%matplotlib inline \n",
    "#plt.style.use('classic')\n",
    "# Create Pandas Series containing data\n",
    "series = pd.Series( name= 'yield',\n",
    "data = [\n",
    "241, 230, 207, 219, 266, 167, 204, 144, 178, 158, 153,\n",
    "187, 181, 196, 149, 183,\n",
    "] )\n",
    "plt.figure(figsize=[6, 0.5]) \n",
    "plt.plot(series,series*0,'o')\n",
    "plt.yticks([])\n",
    "plt.xlim(100,300)\n",
    "plt.xlabel('Yield of hybrid corn')\n",
    "plt.show()"
   ]
  },
  {
   "cell_type": "markdown",
   "metadata": {},
   "source": [
    "### b) Construct histogram of the data."
   ]
  },
  {
   "cell_type": "code",
   "execution_count": 42,
   "metadata": {},
   "outputs": [
    {
     "data": {
      "image/png": "[encoded data removed]",
      "text/plain": [
       "<Figure size 432x288 with 1 Axes>"
      ]
     },
     "metadata": {
      "needs_background": "light"
     },
     "output_type": "display_data"
    }
   ],
   "source": [
    "import pandas as pd\n",
    "import numpy as np\n",
    "import matplotlib.pyplot as plt\n",
    "%matplotlib inline \n",
    "#plt.style.use('classic')\n",
    "# Create Pandas Series containing data\n",
    "series = pd.Series( name= 'yield',\n",
    "data = [\n",
    "241, 230, 207, 219, 266, 167, 204, 144, 178, 158, 153,\n",
    "187, 181, 196, 149, 183,\n",
    "] )\n",
    "series.plot.hist(bins=np.arange(150, 300, 20) )\n",
    "plt.xlabel(' Yield of hybrid corn ( bushels per acre ) ') \n",
    "plt.show()"
   ]
  },
  {
   "cell_type": "markdown",
   "metadata": {},
   "source": [
    "### C) The shape of histogram is skew to the right."
   ]
  },
  {
   "cell_type": "markdown",
   "metadata": {},
   "source": [
    "# 2. Investigate the data in table 3.8 of the last upper molar of extinct mammal Acropihecus rigidus"
   ]
  },
  {
   "cell_type": "markdown",
   "metadata": {},
   "source": [
    "### a) Construct frequency distribution and display is as table and a histogram."
   ]
  },
  {
   "cell_type": "code",
   "execution_count": 37,
   "metadata": {},
   "outputs": [
    {
     "data": {
      "text/plain": [
       "0     6.1\n",
       "1     6.1\n",
       "2     6.3\n",
       "3     6.2\n",
       "4     6.2\n",
       "5     5.9\n",
       "6     5.7\n",
       "7     5.8\n",
       "8     6.2\n",
       "9     5.8\n",
       "10    6.1\n",
       "11    6.1\n",
       "12    6.0\n",
       "13    5.9\n",
       "14    6.1\n",
       "15    5.7\n",
       "16    5.9\n",
       "17    5.9\n",
       "18    6.5\n",
       "19    6.1\n",
       "20    6.2\n",
       "21    6.3\n",
       "22    6.5\n",
       "23    5.9\n",
       "24    6.0\n",
       "25    6.2\n",
       "26    6.0\n",
       "27    6.2\n",
       "28    5.4\n",
       "29    6.1\n",
       "30    5.7\n",
       "31    6.0\n",
       "32    5.7\n",
       "33    5.7\n",
       "34    6.7\n",
       "35    6.1\n",
       "Name: Width, dtype: float64"
      ]
     },
     "execution_count": 37,
     "metadata": {},
     "output_type": "execute_result"
    }
   ],
   "source": [
    "import pandas as pd\n",
    "import numpy as np\n",
    "import matplotlib.pyplot as plt\n",
    "%matplotlib inline \n",
    "#plt.style.use('classic')\n",
    "# Create Pandas Series containing data\n",
    "series = pd.Series( name= 'Width',\n",
    "data = [6.1,6.1,6.3,6.2,6.2,5.9,\n",
    "        5.7,5.8,6.2,5.8,6.1,6.1,\n",
    "        6.0,5.9,6.1,5.7,5.9,5.9,\n",
    "        6.5,6.1,6.2,6.3,6.5,5.9,\n",
    "        6.0,6.2,6.0,6.2,5.4,6.1,\n",
    "        5.7,6.0,5.7,5.7,6.7,6.1\n",
    "] )\n",
    "series"
   ]
  },
  {
   "cell_type": "code",
   "execution_count": 38,
   "metadata": {},
   "outputs": [
    {
     "data": {
      "text/plain": [
       "<matplotlib.axes._subplots.AxesSubplot at 0x1208e45f8>"
      ]
     },
     "execution_count": 38,
     "metadata": {},
     "output_type": "execute_result"
    },
    {
     "data": {
      "image/png": "[encoded data removed]",
      "text/plain": [
       "<Figure size 432x288 with 1 Axes>"
      ]
     },
     "metadata": {
      "needs_background": "light"
     },
     "output_type": "display_data"
    }
   ],
   "source": [
    "series.hist()"
   ]
  },
  {
   "cell_type": "code",
   "execution_count": 40,
   "metadata": {},
   "outputs": [
    {
     "data": {
      "text/plain": [
       "5.4    1\n",
       "5.7    5\n",
       "5.8    2\n",
       "5.9    5\n",
       "6.0    4\n",
       "6.1    8\n",
       "6.2    6\n",
       "6.3    2\n",
       "6.5    2\n",
       "6.7    1\n",
       "Name: Width, dtype: int64"
      ]
     },
     "execution_count": 40,
     "metadata": {},
     "output_type": "execute_result"
    }
   ],
   "source": [
    "series.value_counts().sort_index()"
   ]
  },
  {
   "cell_type": "markdown",
   "metadata": {},
   "source": [
    "### B) It is normal distribution."
   ]
  },
  {
   "cell_type": "markdown",
   "metadata": {},
   "source": [
    "# Exercise 3.4 Presentation of popcorn data"
   ]
  },
  {
   "cell_type": "code",
   "execution_count": 55,
   "metadata": {},
   "outputs": [
    {
     "data": {
      "text/html": [
       "<div>\n",
       "<style scoped>\n",
       "    .dataframe tbody tr th:only-of-type {\n",
       "        vertical-align: middle;\n",
       "    }\n",
       "\n",
       "    .dataframe tbody tr th {\n",
       "        vertical-align: top;\n",
       "    }\n",
       "\n",
       "    .dataframe thead th {\n",
       "        text-align: right;\n",
       "    }\n",
       "</style>\n",
       "<table border=\"1\" class=\"dataframe\">\n",
       "  <thead>\n",
       "    <tr style=\"text-align: right;\">\n",
       "      <th></th>\n",
       "      <th>long</th>\n",
       "      <th>short</th>\n",
       "      <th>poped</th>\n",
       "    </tr>\n",
       "  </thead>\n",
       "  <tbody>\n",
       "    <tr>\n",
       "      <th>0</th>\n",
       "      <td>2.3</td>\n",
       "      <td>1.6</td>\n",
       "      <td>True</td>\n",
       "    </tr>\n",
       "    <tr>\n",
       "      <th>1</th>\n",
       "      <td>2.2</td>\n",
       "      <td>1.4</td>\n",
       "      <td>True</td>\n",
       "    </tr>\n",
       "    <tr>\n",
       "      <th>2</th>\n",
       "      <td>2.4</td>\n",
       "      <td>1.6</td>\n",
       "      <td>True</td>\n",
       "    </tr>\n",
       "    <tr>\n",
       "      <th>3</th>\n",
       "      <td>2.0</td>\n",
       "      <td>1.3</td>\n",
       "      <td>True</td>\n",
       "    </tr>\n",
       "    <tr>\n",
       "      <th>4</th>\n",
       "      <td>0.6</td>\n",
       "      <td>0.5</td>\n",
       "      <td>False</td>\n",
       "    </tr>\n",
       "  </tbody>\n",
       "</table>\n",
       "</div>"
      ],
      "text/plain": [
       "   long  short  poped\n",
       "0   2.3    1.6   True\n",
       "1   2.2    1.4   True\n",
       "2   2.4    1.6   True\n",
       "3   2.0    1.3   True\n",
       "4   0.6    0.5  False"
      ]
     },
     "execution_count": 55,
     "metadata": {},
     "output_type": "execute_result"
    }
   ],
   "source": [
    "import pandas as pd\n",
    "# Make dataframe \"by hand\"\n",
    "df = pd.DataFrame({ 'long': [2.3,  2.2,  2.4,  2.0,  0.6],\n",
    "                    'short':  [1.6,  1.4,  1.6,  1.3,  0.5],\n",
    "                    'poped': [True, True, True, True, False]\n",
    "                  })\n",
    "df"
   ]
  },
  {
   "cell_type": "code",
   "execution_count": 56,
   "metadata": {},
   "outputs": [
    {
     "data": {
      "text/plain": [
       "True     4\n",
       "False    1\n",
       "Name: poped, dtype: int64"
      ]
     },
     "execution_count": 56,
     "metadata": {},
     "output_type": "execute_result"
    }
   ],
   "source": [
    "df['poped'].value_counts()"
   ]
  },
  {
   "cell_type": "code",
   "execution_count": 61,
   "metadata": {},
   "outputs": [
    {
     "data": {
      "text/plain": [
       "<matplotlib.axes._subplots.AxesSubplot at 0x11815f630>"
      ]
     },
     "execution_count": 61,
     "metadata": {},
     "output_type": "execute_result"
    },
    {
     "data": {
      "image/png": "[encoded data removed]",
      "text/plain": [
       "<Figure size 432x288 with 1 Axes>"
      ]
     },
     "metadata": {
      "needs_background": "light"
     },
     "output_type": "display_data"
    }
   ],
   "source": [
    "df['poped'].value_counts().plot.bar() #Ask how to show percentage?"
   ]
  },
  {
   "cell_type": "code",
   "execution_count": 62,
   "metadata": {
    "scrolled": true
   },
   "outputs": [
    {
     "data": {
      "text/plain": [
       "long     1.90\n",
       "short    1.28\n",
       "poped    0.80\n",
       "dtype: float64"
      ]
     },
     "execution_count": 62,
     "metadata": {},
     "output_type": "execute_result"
    }
   ],
   "source": [
    "df.mean()"
   ]
  },
  {
   "cell_type": "markdown",
   "metadata": {},
   "source": [
    "## 2. Present size of the data using both dot plot and histogram."
   ]
  },
  {
   "cell_type": "code",
   "execution_count": 64,
   "metadata": {},
   "outputs": [
    {
     "data": {
      "text/plain": [
       "array([[<matplotlib.axes._subplots.AxesSubplot object at 0x118324d30>,\n",
       "        <matplotlib.axes._subplots.AxesSubplot object at 0x1180c9550>]],\n",
       "      dtype=object)"
      ]
     },
     "execution_count": 64,
     "metadata": {},
     "output_type": "execute_result"
    },
    {
     "data": {
      "image/png": "[encoded data removed]",
      "text/plain": [
       "<Figure size 432x288 with 2 Axes>"
      ]
     },
     "metadata": {
      "needs_background": "light"
     },
     "output_type": "display_data"
    }
   ],
   "source": [
    "df[['long','short']].hist()"
   ]
  },
  {
   "cell_type": "code",
   "execution_count": 84,
   "metadata": {},
   "outputs": [
    {
     "data": {
      "image/png": "[encoded data removed]",
      "text/plain": [
       "<Figure size 432x36 with 1 Axes>"
      ]
     },
     "metadata": {
      "needs_background": "light"
     },
     "output_type": "display_data"
    }
   ],
   "source": [
    "plt.figure(figsize=[6, 0.5]) \n",
    "plt.plot(df['long'],df*0,'o')\n",
    "plt.yticks([])\n",
    "plt.xlim(0,3)\n",
    "plt.xlabel('Long')\n",
    "plt.show()"
   ]
  },
  {
   "cell_type": "code",
   "execution_count": 85,
   "metadata": {},
   "outputs": [
    {
     "data": {
      "image/png": "[encoded data removed]",
      "text/plain": [
       "<Figure size 432x36 with 1 Axes>"
      ]
     },
     "metadata": {
      "needs_background": "light"
     },
     "output_type": "display_data"
    }
   ],
   "source": [
    "plt.figure(figsize=[6, 0.5]) \n",
    "plt.plot(df['short'],df*0,'o')\n",
    "plt.yticks([])\n",
    "plt.xlim(0,3)\n",
    "plt.xlabel('SHORT')\n",
    "plt.show()"
   ]
  },
  {
   "cell_type": "markdown",
   "metadata": {},
   "source": [
    "## 3) Plot scatter "
   ]
  },
  {
   "cell_type": "code",
   "execution_count": 86,
   "metadata": {},
   "outputs": [
    {
     "data": {
      "text/plain": [
       "<matplotlib.axes._subplots.AxesSubplot at 0x118d59940>"
      ]
     },
     "execution_count": 86,
     "metadata": {},
     "output_type": "execute_result"
    },
    {
     "data": {
      "image/png": "[encoded data removed]",
      "text/plain": [
       "<Figure size 432x288 with 1 Axes>"
      ]
     },
     "metadata": {
      "needs_background": "light"
     },
     "output_type": "display_data"
    }
   ],
   "source": [
    "df.plot.scatter(x='long', y='short', title= 'correlation')"
   ]
  },
  {
   "cell_type": "markdown",
   "metadata": {},
   "source": [
    "## 4) Present any other types of data you may have collect using appropriate technique."
   ]
  },
  {
   "cell_type": "code",
   "execution_count": 87,
   "metadata": {},
   "outputs": [
    {
     "data": {
      "text/plain": [
       "<matplotlib.axes._subplots.AxesSubplot at 0x11908c438>"
      ]
     },
     "execution_count": 87,
     "metadata": {},
     "output_type": "execute_result"
    },
    {
     "data": {
      "image/png": "[encoded data removed]",
      "text/plain": [
       "<Figure size 432x288 with 1 Axes>"
      ]
     },
     "metadata": {
      "needs_background": "light"
     },
     "output_type": "display_data"
    }
   ],
   "source": [
    "df.plot.bar()"
   ]
  },
  {
   "cell_type": "code",
   "execution_count": 88,
   "metadata": {},
   "outputs": [
    {
     "data": {
      "text/html": [
       "<div>\n",
       "<style scoped>\n",
       "    .dataframe tbody tr th:only-of-type {\n",
       "        vertical-align: middle;\n",
       "    }\n",
       "\n",
       "    .dataframe tbody tr th {\n",
       "        vertical-align: top;\n",
       "    }\n",
       "\n",
       "    .dataframe thead th {\n",
       "        text-align: right;\n",
       "    }\n",
       "</style>\n",
       "<table border=\"1\" class=\"dataframe\">\n",
       "  <thead>\n",
       "    <tr style=\"text-align: right;\">\n",
       "      <th></th>\n",
       "      <th>long</th>\n",
       "      <th>short</th>\n",
       "    </tr>\n",
       "  </thead>\n",
       "  <tbody>\n",
       "    <tr>\n",
       "      <th>count</th>\n",
       "      <td>5.00000</td>\n",
       "      <td>5.000000</td>\n",
       "    </tr>\n",
       "    <tr>\n",
       "      <th>mean</th>\n",
       "      <td>1.90000</td>\n",
       "      <td>1.280000</td>\n",
       "    </tr>\n",
       "    <tr>\n",
       "      <th>std</th>\n",
       "      <td>0.74162</td>\n",
       "      <td>0.454973</td>\n",
       "    </tr>\n",
       "    <tr>\n",
       "      <th>min</th>\n",
       "      <td>0.60000</td>\n",
       "      <td>0.500000</td>\n",
       "    </tr>\n",
       "    <tr>\n",
       "      <th>25%</th>\n",
       "      <td>2.00000</td>\n",
       "      <td>1.300000</td>\n",
       "    </tr>\n",
       "    <tr>\n",
       "      <th>50%</th>\n",
       "      <td>2.20000</td>\n",
       "      <td>1.400000</td>\n",
       "    </tr>\n",
       "    <tr>\n",
       "      <th>75%</th>\n",
       "      <td>2.30000</td>\n",
       "      <td>1.600000</td>\n",
       "    </tr>\n",
       "    <tr>\n",
       "      <th>max</th>\n",
       "      <td>2.40000</td>\n",
       "      <td>1.600000</td>\n",
       "    </tr>\n",
       "  </tbody>\n",
       "</table>\n",
       "</div>"
      ],
      "text/plain": [
       "          long     short\n",
       "count  5.00000  5.000000\n",
       "mean   1.90000  1.280000\n",
       "std    0.74162  0.454973\n",
       "min    0.60000  0.500000\n",
       "25%    2.00000  1.300000\n",
       "50%    2.20000  1.400000\n",
       "75%    2.30000  1.600000\n",
       "max    2.40000  1.600000"
      ]
     },
     "execution_count": 88,
     "metadata": {},
     "output_type": "execute_result"
    }
   ],
   "source": [
    "df.describe()"
   ]
  },
  {
   "cell_type": "code",
   "execution_count": 89,
   "metadata": {},
   "outputs": [
    {
     "data": {
      "text/plain": [
       "9.5"
      ]
     },
     "execution_count": 89,
     "metadata": {},
     "output_type": "execute_result"
    }
   ],
   "source": [
    "df['long'].sum()"
   ]
  },
  {
   "cell_type": "code",
   "execution_count": 90,
   "metadata": {},
   "outputs": [
    {
     "data": {
      "text/plain": [
       "9.5"
      ]
     },
     "execution_count": 90,
     "metadata": {},
     "output_type": "execute_result"
    }
   ],
   "source": [
    "df['long'].sum()"
   ]
  },
  {
   "cell_type": "markdown",
   "metadata": {},
   "source": [
    "# EXERCISE plot y=sine(x)/x"
   ]
  },
  {
   "cell_type": "code",
   "execution_count": 5,
   "metadata": {},
   "outputs": [
    {
     "data": {
      "application/javascript": [
       "/* Put everything inside the global mpl namespace */\n",
       "window.mpl = {};\n",
       "\n",
       "\n",
       "mpl.get_websocket_type = function() {\n",
       "    if (typeof(WebSocket) !== 'undefined') {\n",
       "        return WebSocket;\n",
       "    } else if (typeof(MozWebSocket) !== 'undefined') {\n",
       "        return MozWebSocket;\n",
       "    } else {\n",
       "        alert('Your browser does not have WebSocket support. ' +\n",
       "              'Please try Chrome, Safari or Firefox ≥ 6. ' +\n",
       "              'Firefox 4 and 5 are also supported but you ' +\n",
       "              'have to enable WebSockets in about:config.');\n",
       "    };\n",
       "}\n",
       "\n",
       "mpl.figure = function(figure_id, websocket, ondownload, parent_element) {\n",
       "    this.id = figure_id;\n",
       "\n",
       "    this.ws = websocket;\n",
       "\n",
       "    this.supports_binary = (this.ws.binaryType != undefined);\n",
       "\n",
       "    if (!this.supports_binary) {\n",
       "        var warnings = document.getElementById(\"mpl-warnings\");\n",
       "        if (warnings) {\n",
       "            warnings.style.display = 'block';\n",
       "            warnings.textContent = (\n",
       "                \"This browser does not support binary websocket messages. \" +\n",
       "                    \"Performance may be slow.\");\n",
       "        }\n",
       "    }\n",
       "\n",
       "    this.imageObj = new Image();\n",
       "\n",
       "    this.context = undefined;\n",
       "    this.message = undefined;\n",
       "    this.canvas = undefined;\n",
       "    this.rubberband_canvas = undefined;\n",
       "    this.rubberband_context = undefined;\n",
       "    this.format_dropdown = undefined;\n",
       "\n",
       "    this.image_mode = 'full';\n",
       "\n",
       "    this.root = $('<div/>');\n",
       "    this._root_extra_style(this.root)\n",
       "    this.root.attr('style', 'display: inline-block');\n",
       "\n",
       "    $(parent_element).append(this.root);\n",
       "\n",
       "    this._init_header(this);\n",
       "    this._init_canvas(this);\n",
       "    this._init_toolbar(this);\n",
       "\n",
       "    var fig = this;\n",
       "\n",
       "    this.waiting = false;\n",
       "\n",
       "    this.ws.onopen =  function () {\n",
       "            fig.send_message(\"supports_binary\", {value: fig.supports_binary});\n",
       "            fig.send_message(\"send_image_mode\", {});\n",
       "            if (mpl.ratio != 1) {\n",
       "                fig.send_message(\"set_dpi_ratio\", {'dpi_ratio': mpl.ratio});\n",
       "            }\n",
       "            fig.send_message(\"refresh\", {});\n",
       "        }\n",
       "\n",
       "    this.imageObj.onload = function() {\n",
       "            if (fig.image_mode == 'full') {\n",
       "                // Full images could contain transparency (where diff images\n",
       "                // almost always do), so we need to clear the canvas so that\n",
       "                // there is no ghosting.\n",
       "                fig.context.clearRect(0, 0, fig.canvas.width, fig.canvas.height);\n",
       "            }\n",
       "            fig.context.drawImage(fig.imageObj, 0, 0);\n",
       "        };\n",
       "\n",
       "    this.imageObj.onunload = function() {\n",
       "        fig.ws.close();\n",
       "    }\n",
       "\n",
       "    this.ws.onmessage = this._make_on_message_function(this);\n",
       "\n",
       "    this.ondownload = ondownload;\n",
       "}\n",
       "\n",
       "mpl.figure.prototype._init_header = function() {\n",
       "    var titlebar = $(\n",
       "        '<div class=\"ui-dialog-titlebar ui-widget-header ui-corner-all ' +\n",
       "        'ui-helper-clearfix\"/>');\n",
       "    var titletext = $(\n",
       "        '<div class=\"ui-dialog-title\" style=\"width: 100%; ' +\n",
       "        'text-align: center; padding: 3px;\"/>');\n",
       "    titlebar.append(titletext)\n",
       "    this.root.append(titlebar);\n",
       "    this.header = titletext[0];\n",
       "}\n",
       "\n",
       "\n",
       "\n",
       "mpl.figure.prototype._canvas_extra_style = function(canvas_div) {\n",
       "\n",
       "}\n",
       "\n",
       "\n",
       "mpl.figure.prototype._root_extra_style = function(canvas_div) {\n",
       "\n",
       "}\n",
       "\n",
       "mpl.figure.prototype._init_canvas = function() {\n",
       "    var fig = this;\n",
       "\n",
       "    var canvas_div = $('<div/>');\n",
       "\n",
       "    canvas_div.attr('style', 'position: relative; clear: both; outline: 0');\n",
       "\n",
       "    function canvas_keyboard_event(event) {\n",
       "        return fig.key_event(event, event['data']);\n",
       "    }\n",
       "\n",
       "    canvas_div.keydown('key_press', canvas_keyboard_event);\n",
       "    canvas_div.keyup('key_release', canvas_keyboard_event);\n",
       "    this.canvas_div = canvas_div\n",
       "    this._canvas_extra_style(canvas_div)\n",
       "    this.root.append(canvas_div);\n",
       "\n",
       "    var canvas = $('<canvas/>');\n",
       "    canvas.addClass('mpl-canvas');\n",
       "    canvas.attr('style', \"left: 0; top: 0; z-index: 0; outline: 0\")\n",
       "\n",
       "    this.canvas = canvas[0];\n",
       "    this.context = canvas[0].getContext(\"2d\");\n",
       "\n",
       "    var backingStore = this.context.backingStorePixelRatio ||\n",
       "\tthis.context.webkitBackingStorePixelRatio ||\n",
       "\tthis.context.mozBackingStorePixelRatio ||\n",
       "\tthis.context.msBackingStorePixelRatio ||\n",
       "\tthis.context.oBackingStorePixelRatio ||\n",
       "\tthis.context.backingStorePixelRatio || 1;\n",
       "\n",
       "    mpl.ratio = (window.devicePixelRatio || 1) / backingStore;\n",
       "\n",
       "    var rubberband = $('<canvas/>');\n",
       "    rubberband.attr('style', \"position: absolute; left: 0; top: 0; z-index: 1;\")\n",
       "\n",
       "    var pass_mouse_events = true;\n",
       "\n",
       "    canvas_div.resizable({\n",
       "        start: function(event, ui) {\n",
       "            pass_mouse_events = false;\n",
       "        },\n",
       "        resize: function(event, ui) {\n",
       "            fig.request_resize(ui.size.width, ui.size.height);\n",
       "        },\n",
       "        stop: function(event, ui) {\n",
       "            pass_mouse_events = true;\n",
       "            fig.request_resize(ui.size.width, ui.size.height);\n",
       "        },\n",
       "    });\n",
       "\n",
       "    function mouse_event_fn(event) {\n",
       "        if (pass_mouse_events)\n",
       "            return fig.mouse_event(event, event['data']);\n",
       "    }\n",
       "\n",
       "    rubberband.mousedown('button_press', mouse_event_fn);\n",
       "    rubberband.mouseup('button_release', mouse_event_fn);\n",
       "    // Throttle sequential mouse events to 1 every 20ms.\n",
       "    rubberband.mousemove('motion_notify', mouse_event_fn);\n",
       "\n",
       "    rubberband.mouseenter('figure_enter', mouse_event_fn);\n",
       "    rubberband.mouseleave('figure_leave', mouse_event_fn);\n",
       "\n",
       "    canvas_div.on(\"wheel\", function (event) {\n",
       "        event = event.originalEvent;\n",
       "        event['data'] = 'scroll'\n",
       "        if (event.deltaY < 0) {\n",
       "            event.step = 1;\n",
       "        } else {\n",
       "            event.step = -1;\n",
       "        }\n",
       "        mouse_event_fn(event);\n",
       "    });\n",
       "\n",
       "    canvas_div.append(canvas);\n",
       "    canvas_div.append(rubberband);\n",
       "\n",
       "    this.rubberband = rubberband;\n",
       "    this.rubberband_canvas = rubberband[0];\n",
       "    this.rubberband_context = rubberband[0].getContext(\"2d\");\n",
       "    this.rubberband_context.strokeStyle = \"#000000\";\n",
       "\n",
       "    this._resize_canvas = function(width, height) {\n",
       "        // Keep the size of the canvas, canvas container, and rubber band\n",
       "        // canvas in synch.\n",
       "        canvas_div.css('width', width)\n",
       "        canvas_div.css('height', height)\n",
       "\n",
       "        canvas.attr('width', width * mpl.ratio);\n",
       "        canvas.attr('height', height * mpl.ratio);\n",
       "        canvas.attr('style', 'width: ' + width + 'px; height: ' + height + 'px;');\n",
       "\n",
       "        rubberband.attr('width', width);\n",
       "        rubberband.attr('height', height);\n",
       "    }\n",
       "\n",
       "    // Set the figure to an initial 600x600px, this will subsequently be updated\n",
       "    // upon first draw.\n",
       "    this._resize_canvas(600, 600);\n",
       "\n",
       "    // Disable right mouse context menu.\n",
       "    $(this.rubberband_canvas).bind(\"contextmenu\",function(e){\n",
       "        return false;\n",
       "    });\n",
       "\n",
       "    function set_focus () {\n",
       "        canvas.focus();\n",
       "        canvas_div.focus();\n",
       "    }\n",
       "\n",
       "    window.setTimeout(set_focus, 100);\n",
       "}\n",
       "\n",
       "mpl.figure.prototype._init_toolbar = function() {\n",
       "    var fig = this;\n",
       "\n",
       "    var nav_element = $('<div/>');\n",
       "    nav_element.attr('style', 'width: 100%');\n",
       "    this.root.append(nav_element);\n",
       "\n",
       "    // Define a callback function for later on.\n",
       "    function toolbar_event(event) {\n",
       "        return fig.toolbar_button_onclick(event['data']);\n",
       "    }\n",
       "    function toolbar_mouse_event(event) {\n",
       "        return fig.toolbar_button_onmouseover(event['data']);\n",
       "    }\n",
       "\n",
       "    for(var toolbar_ind in mpl.toolbar_items) {\n",
       "        var name = mpl.toolbar_items[toolbar_ind][0];\n",
       "        var tooltip = mpl.toolbar_items[toolbar_ind][1];\n",
       "        var image = mpl.toolbar_items[toolbar_ind][2];\n",
       "        var method_name = mpl.toolbar_items[toolbar_ind][3];\n",
       "\n",
       "        if (!name) {\n",
       "            // put a spacer in here.\n",
       "            continue;\n",
       "        }\n",
       "        var button = $('<button/>');\n",
       "        button.addClass('ui-button ui-widget ui-state-default ui-corner-all ' +\n",
       "                        'ui-button-icon-only');\n",
       "        button.attr('role', 'button');\n",
       "        button.attr('aria-disabled', 'false');\n",
       "        button.click(method_name, toolbar_event);\n",
       "        button.mouseover(tooltip, toolbar_mouse_event);\n",
       "\n",
       "        var icon_img = $('<span/>');\n",
       "        icon_img.addClass('ui-button-icon-primary ui-icon');\n",
       "        icon_img.addClass(image);\n",
       "        icon_img.addClass('ui-corner-all');\n",
       "\n",
       "        var tooltip_span = $('<span/>');\n",
       "        tooltip_span.addClass('ui-button-text');\n",
       "        tooltip_span.html(tooltip);\n",
       "\n",
       "        button.append(icon_img);\n",
       "        button.append(tooltip_span);\n",
       "\n",
       "        nav_element.append(button);\n",
       "    }\n",
       "\n",
       "    var fmt_picker_span = $('<span/>');\n",
       "\n",
       "    var fmt_picker = $('<select/>');\n",
       "    fmt_picker.addClass('mpl-toolbar-option ui-widget ui-widget-content');\n",
       "    fmt_picker_span.append(fmt_picker);\n",
       "    nav_element.append(fmt_picker_span);\n",
       "    this.format_dropdown = fmt_picker[0];\n",
       "\n",
       "    for (var ind in mpl.extensions) {\n",
       "        var fmt = mpl.extensions[ind];\n",
       "        var option = $(\n",
       "            '<option/>', {selected: fmt === mpl.default_extension}).html(fmt);\n",
       "        fmt_picker.append(option);\n",
       "    }\n",
       "\n",
       "    // Add hover states to the ui-buttons\n",
       "    $( \".ui-button\" ).hover(\n",
       "        function() { $(this).addClass(\"ui-state-hover\");},\n",
       "        function() { $(this).removeClass(\"ui-state-hover\");}\n",
       "    );\n",
       "\n",
       "    var status_bar = $('<span class=\"mpl-message\"/>');\n",
       "    nav_element.append(status_bar);\n",
       "    this.message = status_bar[0];\n",
       "}\n",
       "\n",
       "mpl.figure.prototype.request_resize = function(x_pixels, y_pixels) {\n",
       "    // Request matplotlib to resize the figure. Matplotlib will then trigger a resize in the client,\n",
       "    // which will in turn request a refresh of the image.\n",
       "    this.send_message('resize', {'width': x_pixels, 'height': y_pixels});\n",
       "}\n",
       "\n",
       "mpl.figure.prototype.send_message = function(type, properties) {\n",
       "    properties['type'] = type;\n",
       "    properties['figure_id'] = this.id;\n",
       "    this.ws.send(JSON.stringify(properties));\n",
       "}\n",
       "\n",
       "mpl.figure.prototype.send_draw_message = function() {\n",
       "    if (!this.waiting) {\n",
       "        this.waiting = true;\n",
       "        this.ws.send(JSON.stringify({type: \"draw\", figure_id: this.id}));\n",
       "    }\n",
       "}\n",
       "\n",
       "\n",
       "mpl.figure.prototype.handle_save = function(fig, msg) {\n",
       "    var format_dropdown = fig.format_dropdown;\n",
       "    var format = format_dropdown.options[format_dropdown.selectedIndex].value;\n",
       "    fig.ondownload(fig, format);\n",
       "}\n",
       "\n",
       "\n",
       "mpl.figure.prototype.handle_resize = function(fig, msg) {\n",
       "    var size = msg['size'];\n",
       "    if (size[0] != fig.canvas.width || size[1] != fig.canvas.height) {\n",
       "        fig._resize_canvas(size[0], size[1]);\n",
       "        fig.send_message(\"refresh\", {});\n",
       "    };\n",
       "}\n",
       "\n",
       "mpl.figure.prototype.handle_rubberband = function(fig, msg) {\n",
       "    var x0 = msg['x0'] / mpl.ratio;\n",
       "    var y0 = (fig.canvas.height - msg['y0']) / mpl.ratio;\n",
       "    var x1 = msg['x1'] / mpl.ratio;\n",
       "    var y1 = (fig.canvas.height - msg['y1']) / mpl.ratio;\n",
       "    x0 = Math.floor(x0) + 0.5;\n",
       "    y0 = Math.floor(y0) + 0.5;\n",
       "    x1 = Math.floor(x1) + 0.5;\n",
       "    y1 = Math.floor(y1) + 0.5;\n",
       "    var min_x = Math.min(x0, x1);\n",
       "    var min_y = Math.min(y0, y1);\n",
       "    var width = Math.abs(x1 - x0);\n",
       "    var height = Math.abs(y1 - y0);\n",
       "\n",
       "    fig.rubberband_context.clearRect(\n",
       "        0, 0, fig.canvas.width, fig.canvas.height);\n",
       "\n",
       "    fig.rubberband_context.strokeRect(min_x, min_y, width, height);\n",
       "}\n",
       "\n",
       "mpl.figure.prototype.handle_figure_label = function(fig, msg) {\n",
       "    // Updates the figure title.\n",
       "    fig.header.textContent = msg['label'];\n",
       "}\n",
       "\n",
       "mpl.figure.prototype.handle_cursor = function(fig, msg) {\n",
       "    var cursor = msg['cursor'];\n",
       "    switch(cursor)\n",
       "    {\n",
       "    case 0:\n",
       "        cursor = 'pointer';\n",
       "        break;\n",
       "    case 1:\n",
       "        cursor = 'default';\n",
       "        break;\n",
       "    case 2:\n",
       "        cursor = 'crosshair';\n",
       "        break;\n",
       "    case 3:\n",
       "        cursor = 'move';\n",
       "        break;\n",
       "    }\n",
       "    fig.rubberband_canvas.style.cursor = cursor;\n",
       "}\n",
       "\n",
       "mpl.figure.prototype.handle_message = function(fig, msg) {\n",
       "    fig.message.textContent = msg['message'];\n",
       "}\n",
       "\n",
       "mpl.figure.prototype.handle_draw = function(fig, msg) {\n",
       "    // Request the server to send over a new figure.\n",
       "    fig.send_draw_message();\n",
       "}\n",
       "\n",
       "mpl.figure.prototype.handle_image_mode = function(fig, msg) {\n",
       "    fig.image_mode = msg['mode'];\n",
       "}\n",
       "\n",
       "mpl.figure.prototype.updated_canvas_event = function() {\n",
       "    // Called whenever the canvas gets updated.\n",
       "    this.send_message(\"ack\", {});\n",
       "}\n",
       "\n",
       "// A function to construct a web socket function for onmessage handling.\n",
       "// Called in the figure constructor.\n",
       "mpl.figure.prototype._make_on_message_function = function(fig) {\n",
       "    return function socket_on_message(evt) {\n",
       "        if (evt.data instanceof Blob) {\n",
       "            /* FIXME: We get \"Resource interpreted as Image but\n",
       "             * transferred with MIME type text/plain:\" errors on\n",
       "             * Chrome.  But how to set the MIME type?  It doesn't seem\n",
       "             * to be part of the websocket stream */\n",
       "            evt.data.type = \"image/png\";\n",
       "\n",
       "            /* Free the memory for the previous frames */\n",
       "            if (fig.imageObj.src) {\n",
       "                (window.URL || window.webkitURL).revokeObjectURL(\n",
       "                    fig.imageObj.src);\n",
       "            }\n",
       "\n",
       "            fig.imageObj.src = (window.URL || window.webkitURL).createObjectURL(\n",
       "                evt.data);\n",
       "            fig.updated_canvas_event();\n",
       "            fig.waiting = false;\n",
       "            return;\n",
       "        }\n",
       "        else if (typeof evt.data === 'string' && evt.data.slice(0, 21) == \"data:image/png;base64\") {\n",
       "            fig.imageObj.src = evt.data;\n",
       "            fig.updated_canvas_event();\n",
       "            fig.waiting = false;\n",
       "            return;\n",
       "        }\n",
       "\n",
       "        var msg = JSON.parse(evt.data);\n",
       "        var msg_type = msg['type'];\n",
       "\n",
       "        // Call the  \"handle_{type}\" callback, which takes\n",
       "        // the figure and JSON message as its only arguments.\n",
       "        try {\n",
       "            var callback = fig[\"handle_\" + msg_type];\n",
       "        } catch (e) {\n",
       "            console.log(\"No handler for the '\" + msg_type + \"' message type: \", msg);\n",
       "            return;\n",
       "        }\n",
       "\n",
       "        if (callback) {\n",
       "            try {\n",
       "                // console.log(\"Handling '\" + msg_type + \"' message: \", msg);\n",
       "                callback(fig, msg);\n",
       "            } catch (e) {\n",
       "                console.log(\"Exception inside the 'handler_\" + msg_type + \"' callback:\", e, e.stack, msg);\n",
       "            }\n",
       "        }\n",
       "    };\n",
       "}\n",
       "\n",
       "// from http://stackoverflow.com/questions/1114465/getting-mouse-location-in-canvas\n",
       "mpl.findpos = function(e) {\n",
       "    //this section is from http://www.quirksmode.org/js/events_properties.html\n",
       "    var targ;\n",
       "    if (!e)\n",
       "        e = window.event;\n",
       "    if (e.target)\n",
       "        targ = e.target;\n",
       "    else if (e.srcElement)\n",
       "        targ = e.srcElement;\n",
       "    if (targ.nodeType == 3) // defeat Safari bug\n",
       "        targ = targ.parentNode;\n",
       "\n",
       "    // jQuery normalizes the pageX and pageY\n",
       "    // pageX,Y are the mouse positions relative to the document\n",
       "    // offset() returns the position of the element relative to the document\n",
       "    var x = e.pageX - $(targ).offset().left;\n",
       "    var y = e.pageY - $(targ).offset().top;\n",
       "\n",
       "    return {\"x\": x, \"y\": y};\n",
       "};\n",
       "\n",
       "/*\n",
       " * return a copy of an object with only non-object keys\n",
       " * we need this to avoid circular references\n",
       " * http://stackoverflow.com/a/24161582/3208463\n",
       " */\n",
       "function simpleKeys (original) {\n",
       "  return Object.keys(original).reduce(function (obj, key) {\n",
       "    if (typeof original[key] !== 'object')\n",
       "        obj[key] = original[key]\n",
       "    return obj;\n",
       "  }, {});\n",
       "}\n",
       "\n",
       "mpl.figure.prototype.mouse_event = function(event, name) {\n",
       "    var canvas_pos = mpl.findpos(event)\n",
       "\n",
       "    if (name === 'button_press')\n",
       "    {\n",
       "        this.canvas.focus();\n",
       "        this.canvas_div.focus();\n",
       "    }\n",
       "\n",
       "    var x = canvas_pos.x * mpl.ratio;\n",
       "    var y = canvas_pos.y * mpl.ratio;\n",
       "\n",
       "    this.send_message(name, {x: x, y: y, button: event.button,\n",
       "                             step: event.step,\n",
       "                             guiEvent: simpleKeys(event)});\n",
       "\n",
       "    /* This prevents the web browser from automatically changing to\n",
       "     * the text insertion cursor when the button is pressed.  We want\n",
       "     * to control all of the cursor setting manually through the\n",
       "     * 'cursor' event from matplotlib */\n",
       "    event.preventDefault();\n",
       "    return false;\n",
       "}\n",
       "\n",
       "mpl.figure.prototype._key_event_extra = function(event, name) {\n",
       "    // Handle any extra behaviour associated with a key event\n",
       "}\n",
       "\n",
       "mpl.figure.prototype.key_event = function(event, name) {\n",
       "\n",
       "    // Prevent repeat events\n",
       "    if (name == 'key_press')\n",
       "    {\n",
       "        if (event.which === this._key)\n",
       "            return;\n",
       "        else\n",
       "            this._key = event.which;\n",
       "    }\n",
       "    if (name == 'key_release')\n",
       "        this._key = null;\n",
       "\n",
       "    var value = '';\n",
       "    if (event.ctrlKey && event.which != 17)\n",
       "        value += \"ctrl+\";\n",
       "    if (event.altKey && event.which != 18)\n",
       "        value += \"alt+\";\n",
       "    if (event.shiftKey && event.which != 16)\n",
       "        value += \"shift+\";\n",
       "\n",
       "    value += 'k';\n",
       "    value += event.which.toString();\n",
       "\n",
       "    this._key_event_extra(event, name);\n",
       "\n",
       "    this.send_message(name, {key: value,\n",
       "                             guiEvent: simpleKeys(event)});\n",
       "    return false;\n",
       "}\n",
       "\n",
       "mpl.figure.prototype.toolbar_button_onclick = function(name) {\n",
       "    if (name == 'download') {\n",
       "        this.handle_save(this, null);\n",
       "    } else {\n",
       "        this.send_message(\"toolbar_button\", {name: name});\n",
       "    }\n",
       "};\n",
       "\n",
       "mpl.figure.prototype.toolbar_button_onmouseover = function(tooltip) {\n",
       "    this.message.textContent = tooltip;\n",
       "};\n",
       "mpl.toolbar_items = [[\"Home\", \"Reset original view\", \"fa fa-home icon-home\", \"home\"], [\"Back\", \"Back to previous view\", \"fa fa-arrow-left icon-arrow-left\", \"back\"], [\"Forward\", \"Forward to next view\", \"fa fa-arrow-right icon-arrow-right\", \"forward\"], [\"\", \"\", \"\", \"\"], [\"Pan\", \"Pan axes with left mouse, zoom with right\", \"fa fa-arrows icon-move\", \"pan\"], [\"Zoom\", \"Zoom to rectangle\", \"fa fa-square-o icon-check-empty\", \"zoom\"], [\"\", \"\", \"\", \"\"], [\"Download\", \"Download plot\", \"fa fa-floppy-o icon-save\", \"download\"]];\n",
       "\n",
       "mpl.extensions = [\"eps\", \"jpeg\", \"pdf\", \"png\", \"ps\", \"raw\", \"svg\", \"tif\"];\n",
       "\n",
       "mpl.default_extension = \"png\";var comm_websocket_adapter = function(comm) {\n",
       "    // Create a \"websocket\"-like object which calls the given IPython comm\n",
       "    // object with the appropriate methods. Currently this is a non binary\n",
       "    // socket, so there is still some room for performance tuning.\n",
       "    var ws = {};\n",
       "\n",
       "    ws.close = function() {\n",
       "        comm.close()\n",
       "    };\n",
       "    ws.send = function(m) {\n",
       "        //console.log('sending', m);\n",
       "        comm.send(m);\n",
       "    };\n",
       "    // Register the callback with on_msg.\n",
       "    comm.on_msg(function(msg) {\n",
       "        //console.log('receiving', msg['content']['data'], msg);\n",
       "        // Pass the mpl event to the overridden (by mpl) onmessage function.\n",
       "        ws.onmessage(msg['content']['data'])\n",
       "    });\n",
       "    return ws;\n",
       "}\n",
       "\n",
       "mpl.mpl_figure_comm = function(comm, msg) {\n",
       "    // This is the function which gets called when the mpl process\n",
       "    // starts-up an IPython Comm through the \"matplotlib\" channel.\n",
       "\n",
       "    var id = msg.content.data.id;\n",
       "    // Get hold of the div created by the display call when the Comm\n",
       "    // socket was opened in Python.\n",
       "    var element = $(\"#\" + id);\n",
       "    var ws_proxy = comm_websocket_adapter(comm)\n",
       "\n",
       "    function ondownload(figure, format) {\n",
       "        window.open(figure.imageObj.src);\n",
       "    }\n",
       "\n",
       "    var fig = new mpl.figure(id, ws_proxy,\n",
       "                           ondownload,\n",
       "                           element.get(0));\n",
       "\n",
       "    // Call onopen now - mpl needs it, as it is assuming we've passed it a real\n",
       "    // web socket which is closed, not our websocket->open comm proxy.\n",
       "    ws_proxy.onopen();\n",
       "\n",
       "    fig.parent_element = element.get(0);\n",
       "    fig.cell_info = mpl.find_output_cell(\"<div id='\" + id + \"'></div>\");\n",
       "    if (!fig.cell_info) {\n",
       "        console.error(\"Failed to find cell for figure\", id, fig);\n",
       "        return;\n",
       "    }\n",
       "\n",
       "    var output_index = fig.cell_info[2]\n",
       "    var cell = fig.cell_info[0];\n",
       "\n",
       "};\n",
       "\n",
       "mpl.figure.prototype.handle_close = function(fig, msg) {\n",
       "    var width = fig.canvas.width/mpl.ratio\n",
       "    fig.root.unbind('remove')\n",
       "\n",
       "    // Update the output cell to use the data from the current canvas.\n",
       "    fig.push_to_output();\n",
       "    var dataURL = fig.canvas.toDataURL();\n",
       "    // Re-enable the keyboard manager in IPython - without this line, in FF,\n",
       "    // the notebook keyboard shortcuts fail.\n",
       "    IPython.keyboard_manager.enable()\n",
       "    $(fig.parent_element).html('<img src=\"' + dataURL + '\" width=\"' + width + '\">');\n",
       "    fig.close_ws(fig, msg);\n",
       "}\n",
       "\n",
       "mpl.figure.prototype.close_ws = function(fig, msg){\n",
       "    fig.send_message('closing', msg);\n",
       "    // fig.ws.close()\n",
       "}\n",
       "\n",
       "mpl.figure.prototype.push_to_output = function(remove_interactive) {\n",
       "    // Turn the data on the canvas into data in the output cell.\n",
       "    var width = this.canvas.width/mpl.ratio\n",
       "    var dataURL = this.canvas.toDataURL();\n",
       "    this.cell_info[1]['text/html'] = '<img src=\"' + dataURL + '\" width=\"' + width + '\">';\n",
       "}\n",
       "\n",
       "mpl.figure.prototype.updated_canvas_event = function() {\n",
       "    // Tell IPython that the notebook contents must change.\n",
       "    IPython.notebook.set_dirty(true);\n",
       "    this.send_message(\"ack\", {});\n",
       "    var fig = this;\n",
       "    // Wait a second, then push the new image to the DOM so\n",
       "    // that it is saved nicely (might be nice to debounce this).\n",
       "    setTimeout(function () { fig.push_to_output() }, 1000);\n",
       "}\n",
       "\n",
       "mpl.figure.prototype._init_toolbar = function() {\n",
       "    var fig = this;\n",
       "\n",
       "    var nav_element = $('<div/>');\n",
       "    nav_element.attr('style', 'width: 100%');\n",
       "    this.root.append(nav_element);\n",
       "\n",
       "    // Define a callback function for later on.\n",
       "    function toolbar_event(event) {\n",
       "        return fig.toolbar_button_onclick(event['data']);\n",
       "    }\n",
       "    function toolbar_mouse_event(event) {\n",
       "        return fig.toolbar_button_onmouseover(event['data']);\n",
       "    }\n",
       "\n",
       "    for(var toolbar_ind in mpl.toolbar_items){\n",
       "        var name = mpl.toolbar_items[toolbar_ind][0];\n",
       "        var tooltip = mpl.toolbar_items[toolbar_ind][1];\n",
       "        var image = mpl.toolbar_items[toolbar_ind][2];\n",
       "        var method_name = mpl.toolbar_items[toolbar_ind][3];\n",
       "\n",
       "        if (!name) { continue; };\n",
       "\n",
       "        var button = $('<button class=\"btn btn-default\" href=\"#\" title=\"' + name + '\"><i class=\"fa ' + image + ' fa-lg\"></i></button>');\n",
       "        button.click(method_name, toolbar_event);\n",
       "        button.mouseover(tooltip, toolbar_mouse_event);\n",
       "        nav_element.append(button);\n",
       "    }\n",
       "\n",
       "    // Add the status bar.\n",
       "    var status_bar = $('<span class=\"mpl-message\" style=\"text-align:right; float: right;\"/>');\n",
       "    nav_element.append(status_bar);\n",
       "    this.message = status_bar[0];\n",
       "\n",
       "    // Add the close button to the window.\n",
       "    var buttongrp = $('<div class=\"btn-group inline pull-right\"></div>');\n",
       "    var button = $('<button class=\"btn btn-mini btn-primary\" href=\"#\" title=\"Stop Interaction\"><i class=\"fa fa-power-off icon-remove icon-large\"></i></button>');\n",
       "    button.click(function (evt) { fig.handle_close(fig, {}); } );\n",
       "    button.mouseover('Stop Interaction', toolbar_mouse_event);\n",
       "    buttongrp.append(button);\n",
       "    var titlebar = this.root.find($('.ui-dialog-titlebar'));\n",
       "    titlebar.prepend(buttongrp);\n",
       "}\n",
       "\n",
       "mpl.figure.prototype._root_extra_style = function(el){\n",
       "    var fig = this\n",
       "    el.on(\"remove\", function(){\n",
       "\tfig.close_ws(fig, {});\n",
       "    });\n",
       "}\n",
       "\n",
       "mpl.figure.prototype._canvas_extra_style = function(el){\n",
       "    // this is important to make the div 'focusable\n",
       "    el.attr('tabindex', 0)\n",
       "    // reach out to IPython and tell the keyboard manager to turn it's self\n",
       "    // off when our div gets focus\n",
       "\n",
       "    // location in version 3\n",
       "    if (IPython.notebook.keyboard_manager) {\n",
       "        IPython.notebook.keyboard_manager.register_events(el);\n",
       "    }\n",
       "    else {\n",
       "        // location in version 2\n",
       "        IPython.keyboard_manager.register_events(el);\n",
       "    }\n",
       "\n",
       "}\n",
       "\n",
       "mpl.figure.prototype._key_event_extra = function(event, name) {\n",
       "    var manager = IPython.notebook.keyboard_manager;\n",
       "    if (!manager)\n",
       "        manager = IPython.keyboard_manager;\n",
       "\n",
       "    // Check for shift+enter\n",
       "    if (event.shiftKey && event.which == 13) {\n",
       "        this.canvas_div.blur();\n",
       "        event.shiftKey = false;\n",
       "        // Send a \"J\" for go to next cell\n",
       "        event.which = 74;\n",
       "        event.keyCode = 74;\n",
       "        manager.command_mode();\n",
       "        manager.handle_keydown(event);\n",
       "    }\n",
       "}\n",
       "\n",
       "mpl.figure.prototype.handle_save = function(fig, msg) {\n",
       "    fig.ondownload(fig, null);\n",
       "}\n",
       "\n",
       "\n",
       "mpl.find_output_cell = function(html_output) {\n",
       "    // Return the cell and output element which can be found *uniquely* in the notebook.\n",
       "    // Note - this is a bit hacky, but it is done because the \"notebook_saving.Notebook\"\n",
       "    // IPython event is triggered only after the cells have been serialised, which for\n",
       "    // our purposes (turning an active figure into a static one), is too late.\n",
       "    var cells = IPython.notebook.get_cells();\n",
       "    var ncells = cells.length;\n",
       "    for (var i=0; i<ncells; i++) {\n",
       "        var cell = cells[i];\n",
       "        if (cell.cell_type === 'code'){\n",
       "            for (var j=0; j<cell.output_area.outputs.length; j++) {\n",
       "                var data = cell.output_area.outputs[j];\n",
       "                if (data.data) {\n",
       "                    // IPython >= 3 moved mimebundle to data attribute of output\n",
       "                    data = data.data;\n",
       "                }\n",
       "                if (data['text/html'] == html_output) {\n",
       "                    return [cell, data, j];\n",
       "                }\n",
       "            }\n",
       "        }\n",
       "    }\n",
       "}\n",
       "\n",
       "// Register the function which deals with the matplotlib target/channel.\n",
       "// The kernel may be null if the page has been refreshed.\n",
       "if (IPython.notebook.kernel != null) {\n",
       "    IPython.notebook.kernel.comm_manager.register_target('matplotlib', mpl.mpl_figure_comm);\n",
       "}\n"
      ],
      "text/plain": [
       "<IPython.core.display.Javascript object>"
      ]
     },
     "metadata": {},
     "output_type": "display_data"
    },
    {
     "data": {
      "text/html": [
       "<img src=\"data:image/png;base64,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\" width=\"1000\">"
      ],
      "text/plain": [
       "<IPython.core.display.HTML object>"
      ]
     },
     "metadata": {},
     "output_type": "display_data"
    }
   ],
   "source": [
    "%matplotlib notebook\n",
    "import numpy as np\n",
    "import matplotlib.pyplot as plt\n",
    "x=np.arange(0.1,24,0.1)\n",
    "y=np.sin(x)/x\n",
    "plt.figure(figsize=(5,3))\n",
    "plt.xlabel('x')\n",
    "plt.ylabel('y=sin(x)/x')\n",
    "plt.plot(x,y)\n",
    "plt.savefig('figure.png', dpi=300,bbox_inches='tight')"
   ]
  },
  {
   "cell_type": "code",
   "execution_count": null,
   "metadata": {},
   "outputs": [],
   "source": []
  }
 ],
 "metadata": {
  "kernelspec": {
   "display_name": "Python 3 (ipykernel)",
   "language": "python",
   "name": "python3"
  },
  "language_info": {
   "codemirror_mode": {
    "name": "ipython",
    "version": 3
   },
   "file_extension": ".py",
   "mimetype": "text/x-python",
   "name": "python",
   "nbconvert_exporter": "python",
   "pygments_lexer": "ipython3",
   "version": "3.11.7"
  }
 },
 "nbformat": 4,
 "nbformat_minor": 4
}

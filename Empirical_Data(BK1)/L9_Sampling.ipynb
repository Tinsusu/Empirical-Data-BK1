{
 "cells": [
  {
   "cell_type": "markdown",
   "metadata": {},
   "source": [
    "# Content\n",
    "* [Exercise 9.1: Changing unit of measurement](#Exercise-9.1:-Changing-unit-of-measurement)\n",
    "* [Exercise 9.2: Simulate sampling](#Exercise-9.2:-Simulate-sampling)\n",
    "* [Exercise 9.3: The cumulative distribution function](#Exercise-9.3:-The-cumulative-distribution-function)\n",
    "* [Exercise 9.4: Lengths of parasites](#Exercise-9.4:-Lengths-of-parasites)\n",
    "* [Exercise 9.5: Plot of the normal distributions](#Exercise-9.5:-Plot-of-the-normal-distributions)\n",
    "* [Exercise 9.6: Distribution of popcorn data](#Exercise-9.6:-Distribution-of-popcorn-data)\n",
    "* [Exercise 9.7: Skull sizes of Etruscans and modern Italians*](#Exercise-9.7:-Skull-sizes-of-Etruscans-and-modern-Italians*)"
   ]
  },
  {
   "cell_type": "markdown",
   "metadata": {},
   "source": [
    "# Exercise 9.1: Changing unit of measurement"
   ]
  },
  {
   "cell_type": "markdown",
   "metadata": {},
   "source": [
    "## 1. In one of the examples, blood glucose was measured in units of mg/dl (milligram per deciliter). A patient had a blood glucose concentration of 120 mg/dl. What is his blood glucose concentration g/l (grams per liter)?\n",
    "\n",
    "Blood glucose 120 mg/dl  ---> 0.120 g/l\n",
    "since dl = 0.1 liter so we can write it as 0.12g/0.1 liter or 1.2g/l\n"
   ]
  },
  {
   "cell_type": "markdown",
   "metadata": {},
   "source": [
    "## 2. A car can go 22 km on 1 l (liter) of gas. What is its mileage in terms of miles per gallon? Use that 1 mile = 1.609 km and 1 gallon = 3.7853 (liter).\n",
    "A car can go 22km/liter\n",
    "\n",
    "1 mile = 1.609km then 22 km = 13.673 miles per liter.\n",
    "\n",
    "3.7853 liters = 1 gallon, 13.673 mile/3.7853 gallon  so it is 3.612 miles/gal \n",
    "\n",
    "If a car has a mileage of 50 miles/gal what its is gas consumption in terms of km/l (kilometer per liter)?\n",
    "\n",
    "50 miles = 80.45 km\n",
    "1 gallon = 3.7853 liter \n",
    "so it is 80.45/3.7853 km/liter \n",
    "\n",
    "21.42 km/liter\n"
   ]
  },
  {
   "cell_type": "markdown",
   "metadata": {},
   "source": [
    "## 3. The density (DK vægtfylde eller massefylde) of gold is 19.3 g/cm3 (grams per cubic centimeter). What is the density of gold in kg/l (kilograms per liter)? Use that 1 cm3 is 1 ml (milliliter)?\n",
    "Density of gold 19.3 g/cm3\n",
    "1 g/cm3 = 1.00kg/l  so 19.3 kg/l"
   ]
  },
  {
   "cell_type": "markdown",
   "metadata": {},
   "source": [
    "# Exercise 9.2: Simulate sampling"
   ]
  },
  {
   "cell_type": "markdown",
   "metadata": {},
   "source": [
    "## The purpose of this exercise is to see how the rules from the compendium (assessing normality) work in practice and in particular how many numbers you need to have before the rides make sense.\n",
    "## In this exercise we will use Jupyter/Python to simulate a sample (DK: stikprøve) of size n = 10 (and late n = 100 and n = 1000). Then we will use the rules to check if the numbers do indeed look like they are normally distributed. Create a Pandas series with 10 random numbers drawn from the normal distribution with mean μ = 22.6 and σ = 2.4.\n"
   ]
  },
  {
   "cell_type": "code",
   "execution_count": 1,
   "metadata": {},
   "outputs": [],
   "source": [
    "from numpy.random import randn #random(normal distribution)\n",
    "import pandas as pd\n",
    "import matplotlib.pyplot as plt\n",
    "import numpy as np"
   ]
  },
  {
   "cell_type": "code",
   "execution_count": 7,
   "metadata": {},
   "outputs": [
    {
     "data": {
      "text/plain": [
       "0    23.215033\n",
       "1    20.268836\n",
       "2    20.806919\n",
       "3    24.900902\n",
       "4    18.822236\n",
       "dtype: float64"
      ]
     },
     "execution_count": 7,
     "metadata": {},
     "output_type": "execute_result"
    }
   ],
   "source": [
    "n = 1000\n",
    "u = 22.6\n",
    "s = 2.4\n",
    "data = pd.Series(randn(n)*s + u)\n",
    "data.head(5)"
   ]
  },
  {
   "cell_type": "code",
   "execution_count": 8,
   "metadata": {},
   "outputs": [
    {
     "data": {
      "text/plain": [
       "Text(0, 0.5, 'Distribution')"
      ]
     },
     "execution_count": 8,
     "metadata": {},
     "output_type": "execute_result"
    },
    {
     "data": {
      "image/png": "[encoded data removed]",
      "text/plain": [
       "<Figure size 288x216 with 1 Axes>"
      ]
     },
     "metadata": {
      "needs_background": "light"
     },
     "output_type": "display_data"
    }
   ],
   "source": [
    "import matplotlib.pyplot as plt\n",
    "import numpy as np\n",
    "#Plot distribution of simulate data\n",
    "data.plot.hist(\n",
    "     figsize=(4,3),\n",
    "     bins=np.arange(0,35,1),\n",
    "     density=True)\n",
    "#plot normal distribution on top\n",
    "\n",
    "y=np.arange(0,35,0.1)\n",
    "N=np.sqrt(2*np.pi*s**2)\n",
    "arg= -0.5*(y-u)**2/s**2\n",
    "f=np.exp(arg)/N\n",
    "plt.plot(y,f,'r-')\n",
    "plt.xlabel('Measure value')\n",
    "plt.ylabel('Distribution')"
   ]
  },
  {
   "cell_type": "code",
   "execution_count": 9,
   "metadata": {},
   "outputs": [
    {
     "data": {
      "text/plain": [
       "Text(0, 0.5, 'Distribution')"
      ]
     },
     "execution_count": 9,
     "metadata": {},
     "output_type": "execute_result"
    },
    {
     "data": {
      "image/png": "[encoded data removed]",
      "text/plain": [
       "<Figure size 288x216 with 1 Axes>"
      ]
     },
     "metadata": {
      "needs_background": "light"
     },
     "output_type": "display_data"
    }
   ],
   "source": [
    "samp = pd.Series(data.sample(n=10))\n",
    "#Plot distribution of simulate data\n",
    "samp.plot.hist(\n",
    "     figsize=(4,3),\n",
    "     bins=np.arange(0,35,1),\n",
    "     density=True)\n",
    "#plot normal distribution on top\n",
    "\n",
    "y=np.arange(0,35,0.1)\n",
    "N=np.sqrt(2*np.pi*s**2)\n",
    "arg= -0.5*(y-u)**2/s**2\n",
    "f=np.exp(arg)/N\n",
    "plt.plot(y,f,'r-')\n",
    "plt.xlabel('Measure value')\n",
    "plt.ylabel('Distribution')"
   ]
  },
  {
   "cell_type": "markdown",
   "metadata": {},
   "source": [
    "### 1. Imagine that these numbers are ou observations, and use                                                                                          rules1-4 inthe box on page 131 to assess if your observations appear to be normally distributed. Hint: sort the numbers. Remember that that your simulated data is indeed taken from the normal distribution. What does this tell you about the rules for assessing normality.\n",
    "\n",
    "when we take samples from population that normally distributed, our observed data appeared to be normal."
   ]
  },
  {
   "cell_type": "markdown",
   "metadata": {},
   "source": [
    "### 2. Pretend that you do not know what the mean and the variance of the numbers really is. Based only your ten numbers, what is your best guess on the mean and standard deviation? Repeat for 100, and 1000 random numbers. What happens to the guess for the mean and variance?"
   ]
  },
  {
   "cell_type": "code",
   "execution_count": 10,
   "metadata": {},
   "outputs": [
    {
     "data": {
      "text/plain": [
       "22.47711721181577"
      ]
     },
     "execution_count": 10,
     "metadata": {},
     "output_type": "execute_result"
    }
   ],
   "source": [
    "data.mean()"
   ]
  },
  {
   "cell_type": "code",
   "execution_count": 11,
   "metadata": {},
   "outputs": [
    {
     "data": {
      "text/plain": [
       "2.34267584486946"
      ]
     },
     "execution_count": 11,
     "metadata": {},
     "output_type": "execute_result"
    }
   ],
   "source": [
    "data.std()"
   ]
  },
  {
   "cell_type": "markdown",
   "metadata": {},
   "source": [
    "# Exercise 9.3: The cumulative distribution function"
   ]
  },
  {
   "cell_type": "markdown",
   "metadata": {},
   "source": [
    "### Consider Example 8.2 (page 128) about the thickness of egg-shells. What is the probability that an egg-shell has a thickness between 0.33 mm and 0.4 mm. The egg comes from the flock discussed in the example in the main text, so we know that the thickness floows a normal distribution with μ = 0.38 and σ = 0.03 mm.\n",
    "\n"
   ]
  },
  {
   "cell_type": "code",
   "execution_count": 32,
   "metadata": {},
   "outputs": [
    {
     "name": "stdout",
     "output_type": "stream",
     "text": [
      "P=69.97171101802624%\n"
     ]
    }
   ],
   "source": [
    "import matplotlib.pyplot as plt\n",
    "import numpy as np\n",
    "\n",
    "def cdf(y,u=0.38,s=0.03):\n",
    "    from scipy.special import erf\n",
    "    return 0.5*(1+erf((y-u)/(s*2**0.5)))\n",
    "\n",
    "y_low = 0.33\n",
    "y_high = 0.4\n",
    "P=cdf(y_high)-cdf(y_low)\n",
    "print(f'P={100*P}%')q\n"
   ]
  },
  {
   "cell_type": "markdown",
   "metadata": {},
   "source": [
    "# Exercise 9.4: Lengths of parasites"
   ]
  },
  {
   "cell_type": "markdown",
   "metadata": {},
   "source": [
    "## In this exercise we consider a study of a certain population of the parasite Trypanosoina brucel – the causative agent in sleeping sickness. The lengths are distributed as shown on the density curve on Figure 8.5. Numbers indicate the areas under the curve. An individual Trypanosoina is chosen at random from the population and its length X is measured.\n",
    "<img src=\"img/ln.png\" width= \"550\" height=\"350\"/>"
   ]
  },
  {
   "cell_type": "markdown",
   "metadata": {},
   "source": [
    "### 1. What is P(20μm < X < 30μm) and P(X > 20μm)? \n",
    "#### <span style=\"color:blue\"> P(20μm < X < 30μm) = 0.41+0.21, so it is 0.62 </span>\n",
    "####  <span style=\"color:blue\">P(X > 20μm) = 0.41+0.21+0.03, so it is  0.65 </span>\n",
    "\n",
    "                "
   ]
  },
  {
   "cell_type": "markdown",
   "metadata": {},
   "source": [
    "### 2. What is the probability that both individuals are less than 20 μm long?\n",
    "\n",
    "### <span style=\"color:blue\"> 0.01+0.34 = 0.35**2 </span>"
   ]
  },
  {
   "cell_type": "markdown",
   "metadata": {},
   "source": [
    "### 3. What is the probability that the first individual is longer than 20 μm and the second is less than 30 μm?\n",
    "### <span style=\"color:blue\"> 0.41+0.21 = 0.62**2 </span>"
   ]
  },
  {
   "cell_type": "markdown",
   "metadata": {},
   "source": [
    "# Exercise 9.5: Plot of the normal distributions"
   ]
  },
  {
   "cell_type": "markdown",
   "metadata": {},
   "source": [
    "### Use the NumPy and matplotlib modules to plot three normal-distributions in a Jupyter Notebook. Let mean of all distributions be μ = 17.0 and standard deviations be σ = 2.0, σ = 4.0 and σ = 8.0, respectively.\n"
   ]
  },
  {
   "cell_type": "code",
   "execution_count": 13,
   "metadata": {},
   "outputs": [
    {
     "data": {
      "image/png": "[encoded data removed]",
      "text/plain": [
       "<Figure size 1080x360 with 3 Axes>"
      ]
     },
     "metadata": {
      "needs_background": "light"
     },
     "output_type": "display_data"
    }
   ],
   "source": [
    "from numpy.random import randn #random(normal distribution)\n",
    "import pandas as pd\n",
    "import matplotlib.pyplot as plt\n",
    "import numpy as np\n",
    "n = 1000\n",
    "u = 17\n",
    "s = 2\n",
    "s2 = 4\n",
    "s3 = 8\n",
    "data = pd.Series(randn(n)*s + u)\n",
    "data2 = pd.Series(randn(n)*s2 + u)\n",
    "data3 = pd.Series(randn(n)*s3 + u)\n",
    "data.head(5)\n",
    "\n",
    "fig, ax=plt.subplots(1,3, figsize=(15,5), sharex=True,sharey=True)\n",
    "#Plot distribution of simulate data\n",
    "data.plot.hist(figsize=(4,3),bins=np.arange(0,35,1),density=True,ax=ax[0],title='std=2')\n",
    "y=np.arange(0,35,0.1)\n",
    "N=np.sqrt(2*np.pi*s**2)\n",
    "arg= -0.5*(y-u)**2/s**2\n",
    "f=np.exp(arg)/N\n",
    "ax[0].plot(y,f,'r-')\n",
    "plt.xlabel('Measure value')\n",
    "plt.ylabel('Distribution')\n",
    "\n",
    "data2.plot.hist(figsize=(15,5),bins=np.arange(0,35,1),density=True,ax=ax[1],title='std=4')\n",
    "N=np.sqrt(2*np.pi*s2**2)\n",
    "arg= -0.5*(y-u)**2/s2**2\n",
    "f=np.exp(arg)/N\n",
    "ax[1].plot(y,f,'r-')\n",
    "plt.xlabel('Measure value')\n",
    "plt.ylabel('Distribution')\n",
    "\n",
    "data3.plot.hist(figsize=(15,5),bins=np.arange(0,35,1),density=True,ax=ax[2],title='std=8')\n",
    "N=np.sqrt(2*np.pi*s3**2)\n",
    "arg= -0.5*(y-u)**2/s3**2\n",
    "f=np.exp(arg)/N\n",
    "ax[2].plot(y,f,'r-')\n",
    "plt.xlabel('Measure value')\n",
    "plt.ylabel('Distribution')\n",
    "\n",
    "plt.show()\n"
   ]
  },
  {
   "cell_type": "markdown",
   "metadata": {},
   "source": [
    "### 1. Does the area under the curve seem to be the same for the three curves (and should they)?"
   ]
  },
  {
   "cell_type": "markdown",
   "metadata": {},
   "source": [
    "### 2. What happens to the shape of the distribution as σ is increasing?"
   ]
  },
  {
   "cell_type": "markdown",
   "metadata": {},
   "source": [
    "### 3. How does your answer agree with the fact that σ describe deviation from mean?"
   ]
  },
  {
   "cell_type": "markdown",
   "metadata": {},
   "source": [
    "# Exercise 9.6: Distribution of popcorn data"
   ]
  },
  {
   "cell_type": "markdown",
   "metadata": {},
   "source": [
    "### 1. Plot a distribution of continuous data for your popcorn data set, and the normal distribution with the same mean and standard deviation."
   ]
  },
  {
   "cell_type": "code",
   "execution_count": 26,
   "metadata": {},
   "outputs": [],
   "source": [
    "import pandas as pd\n",
    "import numpy as np\n",
    "import matplotlib.pyplot as plt\n",
    "%matplotlib inline \n",
    "pd.set_option('display.max_rows',10)"
   ]
  },
  {
   "cell_type": "code",
   "execution_count": 27,
   "metadata": {},
   "outputs": [
    {
     "data": {
      "text/html": [
       "<div>\n",
       "<style scoped>\n",
       "    .dataframe tbody tr th:only-of-type {\n",
       "        vertical-align: middle;\n",
       "    }\n",
       "\n",
       "    .dataframe tbody tr th {\n",
       "        vertical-align: top;\n",
       "    }\n",
       "\n",
       "    .dataframe thead th {\n",
       "        text-align: right;\n",
       "    }\n",
       "</style>\n",
       "<table border=\"1\" class=\"dataframe\">\n",
       "  <thead>\n",
       "    <tr style=\"text-align: right;\">\n",
       "      <th></th>\n",
       "      <th>Popped</th>\n",
       "      <th>long</th>\n",
       "      <th>short</th>\n",
       "      <th>Color</th>\n",
       "      <th>Kernel_pices</th>\n",
       "    </tr>\n",
       "  </thead>\n",
       "  <tbody>\n",
       "    <tr>\n",
       "      <th>0</th>\n",
       "      <td>1</td>\n",
       "      <td>22.70</td>\n",
       "      <td>20.26</td>\n",
       "      <td>W</td>\n",
       "      <td>3</td>\n",
       "    </tr>\n",
       "    <tr>\n",
       "      <th>1</th>\n",
       "      <td>1</td>\n",
       "      <td>29.44</td>\n",
       "      <td>12.63</td>\n",
       "      <td>W</td>\n",
       "      <td>4</td>\n",
       "    </tr>\n",
       "    <tr>\n",
       "      <th>2</th>\n",
       "      <td>1</td>\n",
       "      <td>19.97</td>\n",
       "      <td>12.52</td>\n",
       "      <td>W</td>\n",
       "      <td>1</td>\n",
       "    </tr>\n",
       "    <tr>\n",
       "      <th>3</th>\n",
       "      <td>1</td>\n",
       "      <td>30.50</td>\n",
       "      <td>8.82</td>\n",
       "      <td>Y</td>\n",
       "      <td>2</td>\n",
       "    </tr>\n",
       "    <tr>\n",
       "      <th>4</th>\n",
       "      <td>0</td>\n",
       "      <td>5.55</td>\n",
       "      <td>4.68</td>\n",
       "      <td>B</td>\n",
       "      <td>1</td>\n",
       "    </tr>\n",
       "    <tr>\n",
       "      <th>...</th>\n",
       "      <td>...</td>\n",
       "      <td>...</td>\n",
       "      <td>...</td>\n",
       "      <td>...</td>\n",
       "      <td>...</td>\n",
       "    </tr>\n",
       "    <tr>\n",
       "      <th>43</th>\n",
       "      <td>1</td>\n",
       "      <td>27.49</td>\n",
       "      <td>13.83</td>\n",
       "      <td>W</td>\n",
       "      <td>2</td>\n",
       "    </tr>\n",
       "    <tr>\n",
       "      <th>44</th>\n",
       "      <td>1</td>\n",
       "      <td>4.41</td>\n",
       "      <td>1.96</td>\n",
       "      <td>Y</td>\n",
       "      <td>0</td>\n",
       "    </tr>\n",
       "    <tr>\n",
       "      <th>45</th>\n",
       "      <td>1</td>\n",
       "      <td>6.48</td>\n",
       "      <td>3.38</td>\n",
       "      <td>W</td>\n",
       "      <td>0</td>\n",
       "    </tr>\n",
       "    <tr>\n",
       "      <th>46</th>\n",
       "      <td>1</td>\n",
       "      <td>4.40</td>\n",
       "      <td>2.12</td>\n",
       "      <td>W</td>\n",
       "      <td>1</td>\n",
       "    </tr>\n",
       "    <tr>\n",
       "      <th>47</th>\n",
       "      <td>1</td>\n",
       "      <td>5.18</td>\n",
       "      <td>2.77</td>\n",
       "      <td>W</td>\n",
       "      <td>0</td>\n",
       "    </tr>\n",
       "  </tbody>\n",
       "</table>\n",
       "<p>48 rows × 5 columns</p>\n",
       "</div>"
      ],
      "text/plain": [
       "    Popped   long  short Color  Kernel_pices\n",
       "0        1  22.70  20.26     W             3\n",
       "1        1  29.44  12.63     W             4\n",
       "2        1  19.97  12.52     W             1\n",
       "3        1  30.50   8.82     Y             2\n",
       "4        0   5.55   4.68     B             1\n",
       "..     ...    ...    ...   ...           ...\n",
       "43       1  27.49  13.83     W             2\n",
       "44       1   4.41   1.96     Y             0\n",
       "45       1   6.48   3.38     W             0\n",
       "46       1   4.40   2.12     W             1\n",
       "47       1   5.18   2.77     W             0\n",
       "\n",
       "[48 rows x 5 columns]"
      ]
     },
     "execution_count": 27,
     "metadata": {},
     "output_type": "execute_result"
    }
   ],
   "source": [
    "df = pd.read_csv('popcorn12.csv')\n",
    "df"
   ]
  },
  {
   "cell_type": "code",
   "execution_count": 28,
   "metadata": {},
   "outputs": [
    {
     "name": "stdout",
     "output_type": "stream",
     "text": [
      "mean: 20.1075    standard deviation: 9.123931007042776\n"
     ]
    }
   ],
   "source": [
    "mean=df['long'].mean()\n",
    "std = df['long'].std()\n",
    "print('mean:',mean,'  ','standard deviation:',std)"
   ]
  },
  {
   "cell_type": "code",
   "execution_count": 29,
   "metadata": {},
   "outputs": [
    {
     "data": {
      "text/plain": [
       "48"
      ]
     },
     "execution_count": 29,
     "metadata": {},
     "output_type": "execute_result"
    }
   ],
   "source": [
    "total = df['long'].count()\n",
    "total"
   ]
  },
  {
   "cell_type": "code",
   "execution_count": 30,
   "metadata": {},
   "outputs": [],
   "source": [
    "from numpy.random import randn #random(normal distribution)\n",
    "import pandas as pd\n",
    "import matplotlib.pyplot as plt\n",
    "import numpy as np"
   ]
  },
  {
   "cell_type": "code",
   "execution_count": 31,
   "metadata": {},
   "outputs": [
    {
     "data": {
      "text/plain": [
       "Text(0, 0.5, 'Distribution')"
      ]
     },
     "execution_count": 31,
     "metadata": {},
     "output_type": "execute_result"
    },
    {
     "data": {
      "image/png": "[encoded data removed]",
      "text/plain": [
       "<Figure size 288x216 with 1 Axes>"
      ]
     },
     "metadata": {
      "needs_background": "light"
     },
     "output_type": "display_data"
    }
   ],
   "source": [
    "n = total\n",
    "u = mean\n",
    "s = std\n",
    "\n",
    "df['long'].plot.hist(\n",
    "     figsize=(4,3),\n",
    "     bins=np.arange(0,35,2),\n",
    "     density=True)\n",
    "#plot normal distribution on top\n",
    "\n",
    "y=np.arange(0,35,0.1)\n",
    "N=np.sqrt(2*np.pi*s**2)\n",
    "arg= -0.5*(y-u)**2/s**2\n",
    "f=np.exp(arg)/N\n",
    "plt.plot(y,f,'r-')\n",
    "plt.xlabel('Measure value')\n",
    "plt.ylabel('Distribution')\n"
   ]
  },
  {
   "cell_type": "code",
   "execution_count": 32,
   "metadata": {},
   "outputs": [
    {
     "name": "stdout",
     "output_type": "stream",
     "text": [
      "Statistics=7.452, p=0.024\n",
      "Sample does not look Gaussian (reject H0)\n"
     ]
    }
   ],
   "source": [
    "# D'Agostino and Pearson's Test\n",
    "from numpy.random import seed\n",
    "from numpy.random import randn\n",
    "from scipy.stats import normaltest\n",
    "import pandas as pd\n",
    "df = pd.read_csv('popcorn12.csv')\n",
    "df\n",
    "# generate univariate observations\n",
    "data = df['long']\n",
    "# normality test\n",
    "stat, p = normaltest(data)\n",
    "print('Statistics=%.3f, p=%.3f' % (stat, p))\n",
    "# interpret\n",
    "alpha = 0.05\n",
    "if p > alpha:\n",
    "\tprint('Sample looks Gaussian (fail to reject H0)')\n",
    "else:\n",
    "\tprint('Sample does not look Gaussian (reject H0)')"
   ]
  },
  {
   "cell_type": "markdown",
   "metadata": {},
   "source": [
    "### 2. Use rules in the box on page 131 to assess if the selected distribution of popcorn data is normal."
   ]
  },
  {
   "cell_type": "code",
   "execution_count": 33,
   "metadata": {},
   "outputs": [
    {
     "name": "stdout",
     "output_type": "stream",
     "text": [
      "u1: 20.891999999999996 and s1: 9.282285108856831\n"
     ]
    }
   ],
   "source": [
    "newdata= df['long'].sample(n=20, random_state=1)\n",
    "u1 = newdata.mean()\n",
    "s1 = newdata.std()\n",
    "print('u1:',u1,'and','s1:',s1)"
   ]
  },
  {
   "cell_type": "code",
   "execution_count": 34,
   "metadata": {},
   "outputs": [
    {
     "data": {
      "text/plain": [
       "Text(0, 0.5, 'Distribution')"
      ]
     },
     "execution_count": 34,
     "metadata": {},
     "output_type": "execute_result"
    },
    {
     "data": {
      "image/png": "[encoded data removed]",
      "text/plain": [
       "<Figure size 288x216 with 1 Axes>"
      ]
     },
     "metadata": {
      "needs_background": "light"
     },
     "output_type": "display_data"
    }
   ],
   "source": [
    "newdata.plot.hist(\n",
    "     figsize=(4,3),\n",
    "     bins=np.arange(0,35,2),\n",
    "     density=True)\n",
    "#plot normal distribution on top\n",
    "\n",
    "y=np.arange(0,35,0.1)\n",
    "N=np.sqrt(2*np.pi*s1**2)\n",
    "arg= -0.5*(y-u1)**2/s1**2\n",
    "f=np.exp(arg)/N\n",
    "plt.plot(y,f,'r-')\n",
    "plt.xlabel('Measure value')\n",
    "plt.ylabel('Distribution')\n",
    "\n"
   ]
  },
  {
   "cell_type": "code",
   "execution_count": 35,
   "metadata": {},
   "outputs": [
    {
     "name": "stdout",
     "output_type": "stream",
     "text": [
      "P=68.26894921370858%\n"
     ]
    }
   ],
   "source": [
    "import matplotlib.pyplot as plt\n",
    "import numpy as np\n",
    "\n",
    "def cdf(y,u=u1,s=s1):\n",
    "    from scipy.special import erf\n",
    "    return 0.5*(1+erf((y-u1)/(s1*2**0.5)))\n",
    "\n",
    "y_low = u1-s1\n",
    "y_high = u1+s1\n",
    "P=cdf(y_high)-cdf(y_low)\n",
    "print(f'P={100*P}%')\n",
    "\n"
   ]
  },
  {
   "cell_type": "code",
   "execution_count": 36,
   "metadata": {},
   "outputs": [
    {
     "name": "stdout",
     "output_type": "stream",
     "text": [
      "P=95.44997361036415%\n"
     ]
    }
   ],
   "source": [
    "import matplotlib.pyplot as plt\n",
    "import numpy as np\n",
    "\n",
    "def cdf(y,u=u1,s=s1):\n",
    "    from scipy.special import erf\n",
    "    return 0.5*(1+erf((y-u1)/(s1*2**0.5)))\n",
    "\n",
    "y_low = u1-2*s1\n",
    "y_high = u1+2*s1\n",
    "P=cdf(y_high)-cdf(y_low)\n",
    "print(f'P={100*P}%')"
   ]
  },
  {
   "cell_type": "code",
   "execution_count": 37,
   "metadata": {},
   "outputs": [
    {
     "name": "stdout",
     "output_type": "stream",
     "text": [
      "P=99.73002039367398%\n"
     ]
    }
   ],
   "source": [
    "import matplotlib.pyplot as plt\n",
    "import numpy as np\n",
    "\n",
    "def cdf(y,u=u1,s=s1):\n",
    "    from scipy.special import erf\n",
    "    return 0.5*(1+erf((y-u1)/(s1*2**0.5)))\n",
    "\n",
    "y_low = u1-3*s1\n",
    "y_high = u1+3*s1\n",
    "P=cdf(y_high)-cdf(y_low)\n",
    "print(f'P={100*P}%')"
   ]
  },
  {
   "cell_type": "markdown",
   "metadata": {},
   "source": [
    "# Exercise 9.7: Skull sizes of Etruscans and modern Italians*\n",
    "\n",
    "### (This exercise is optional.) On Moodle you can find the CSV data file etruscan.csv. The file contains two lists of skull sizes (DK: kraniestørrelser). The first list gives the sizes of Etruscan skulls (from some ancient graves near Rome) and the sec- ond list gives skull sizes for modern Italians."
   ]
  },
  {
   "cell_type": "markdown",
   "metadata": {},
   "source": [
    "### 1. Load the file into a DataFrame and plot the distributions of the skull sizes."
   ]
  },
  {
   "cell_type": "markdown",
   "metadata": {},
   "source": [
    "### 2. Use rules in the box on page131 to assess if the distributions are normal."
   ]
  },
  {
   "cell_type": "code",
   "execution_count": 2,
   "metadata": {},
   "outputs": [],
   "source": [
    "import pandas as pd\n",
    "import numpy as np\n",
    "import matplotlib.pyplot as plt\n",
    "%matplotlib inline \n",
    "pd.set_option('display.max_rows',10)"
   ]
  },
  {
   "cell_type": "code",
   "execution_count": 3,
   "metadata": {},
   "outputs": [
    {
     "data": {
      "text/html": [
       "<div>\n",
       "<style scoped>\n",
       "    .dataframe tbody tr th:only-of-type {\n",
       "        vertical-align: middle;\n",
       "    }\n",
       "\n",
       "    .dataframe tbody tr th {\n",
       "        vertical-align: top;\n",
       "    }\n",
       "\n",
       "    .dataframe thead th {\n",
       "        text-align: right;\n",
       "    }\n",
       "</style>\n",
       "<table border=\"1\" class=\"dataframe\">\n",
       "  <thead>\n",
       "    <tr style=\"text-align: right;\">\n",
       "      <th></th>\n",
       "      <th>Etruscans</th>\n",
       "      <th>Italians</th>\n",
       "    </tr>\n",
       "  </thead>\n",
       "  <tbody>\n",
       "    <tr>\n",
       "      <th>0</th>\n",
       "      <td>141</td>\n",
       "      <td>133.0</td>\n",
       "    </tr>\n",
       "    <tr>\n",
       "      <th>1</th>\n",
       "      <td>148</td>\n",
       "      <td>138.0</td>\n",
       "    </tr>\n",
       "    <tr>\n",
       "      <th>2</th>\n",
       "      <td>132</td>\n",
       "      <td>130.0</td>\n",
       "    </tr>\n",
       "    <tr>\n",
       "      <th>3</th>\n",
       "      <td>138</td>\n",
       "      <td>138.0</td>\n",
       "    </tr>\n",
       "    <tr>\n",
       "      <th>4</th>\n",
       "      <td>154</td>\n",
       "      <td>134.0</td>\n",
       "    </tr>\n",
       "    <tr>\n",
       "      <th>...</th>\n",
       "      <td>...</td>\n",
       "      <td>...</td>\n",
       "    </tr>\n",
       "    <tr>\n",
       "      <th>79</th>\n",
       "      <td>142</td>\n",
       "      <td>NaN</td>\n",
       "    </tr>\n",
       "    <tr>\n",
       "      <th>80</th>\n",
       "      <td>140</td>\n",
       "      <td>NaN</td>\n",
       "    </tr>\n",
       "    <tr>\n",
       "      <th>81</th>\n",
       "      <td>137</td>\n",
       "      <td>NaN</td>\n",
       "    </tr>\n",
       "    <tr>\n",
       "      <th>82</th>\n",
       "      <td>152</td>\n",
       "      <td>NaN</td>\n",
       "    </tr>\n",
       "    <tr>\n",
       "      <th>83</th>\n",
       "      <td>145</td>\n",
       "      <td>NaN</td>\n",
       "    </tr>\n",
       "  </tbody>\n",
       "</table>\n",
       "<p>84 rows × 2 columns</p>\n",
       "</div>"
      ],
      "text/plain": [
       "    Etruscans  Italians\n",
       "0         141     133.0\n",
       "1         148     138.0\n",
       "2         132     130.0\n",
       "3         138     138.0\n",
       "4         154     134.0\n",
       "..        ...       ...\n",
       "79        142       NaN\n",
       "80        140       NaN\n",
       "81        137       NaN\n",
       "82        152       NaN\n",
       "83        145       NaN\n",
       "\n",
       "[84 rows x 2 columns]"
      ]
     },
     "execution_count": 3,
     "metadata": {},
     "output_type": "execute_result"
    }
   ],
   "source": [
    "df = pd.read_csv('etruscan.csv')\n",
    "df"
   ]
  },
  {
   "cell_type": "code",
   "execution_count": 5,
   "metadata": {},
   "outputs": [
    {
     "data": {
      "image/png": "[encoded data removed]",
      "text/plain": [
       "<Figure size 432x288 with 1 Axes>"
      ]
     },
     "metadata": {
      "needs_background": "light"
     },
     "output_type": "display_data"
    }
   ],
   "source": [
    "df['Etruscans'].hist();"
   ]
  },
  {
   "cell_type": "code",
   "execution_count": 6,
   "metadata": {},
   "outputs": [
    {
     "data": {
      "text/plain": [
       "143.77380952380952"
      ]
     },
     "execution_count": 6,
     "metadata": {},
     "output_type": "execute_result"
    }
   ],
   "source": [
    "df['Etruscans'].mean()"
   ]
  },
  {
   "cell_type": "code",
   "execution_count": 11,
   "metadata": {},
   "outputs": [
    {
     "data": {
      "text/plain": [
       "5.9705122592605475"
      ]
     },
     "execution_count": 11,
     "metadata": {},
     "output_type": "execute_result"
    }
   ],
   "source": [
    "df['Etruscans'].std()"
   ]
  },
  {
   "cell_type": "code",
   "execution_count": 18,
   "metadata": {},
   "outputs": [
    {
     "name": "stdout",
     "output_type": "stream",
     "text": [
      "u1: 143.9 and s1: 5.437685266051317\n"
     ]
    }
   ],
   "source": [
    "samp= df['Etruscans'].sample(n=20, random_state=1)\n",
    "u1 = samp.mean()\n",
    "s1 = samp.std()\n",
    "print('u1:',u1,'and','s1:',s1)"
   ]
  },
  {
   "cell_type": "code",
   "execution_count": 22,
   "metadata": {},
   "outputs": [
    {
     "name": "stdout",
     "output_type": "stream",
     "text": [
      "P=68.26894921370861%\n"
     ]
    }
   ],
   "source": [
    "import matplotlib.pyplot as plt\n",
    "import numpy as np\n",
    "\n",
    "def cdf(y,u=u1,s=s1 ):\n",
    "    from scipy.special import erf\n",
    "    return 0.5*(1+erf((y-u)/(s*2**0.5)))\n",
    "\n",
    "y_low = u1-s1\n",
    "y_high = u1+s1\n",
    "P=cdf(y_high)-cdf(y_low)\n",
    "print(f'P={100*P}%')"
   ]
  },
  {
   "cell_type": "code",
   "execution_count": 23,
   "metadata": {},
   "outputs": [
    {
     "name": "stdout",
     "output_type": "stream",
     "text": [
      "P=95.44997361036418%\n"
     ]
    }
   ],
   "source": [
    "import matplotlib.pyplot as plt\n",
    "import numpy as np\n",
    "\n",
    "def cdf(y,u=u1,s=s1 ):\n",
    "    from scipy.special import erf\n",
    "    return 0.5*(1+erf((y-u)/(s*2**0.5)))\n",
    "\n",
    "y_low = u1-2*s1\n",
    "y_high = u1+2*s1\n",
    "P=cdf(y_high)-cdf(y_low)\n",
    "print(f'P={100*P}%')"
   ]
  },
  {
   "cell_type": "code",
   "execution_count": 24,
   "metadata": {},
   "outputs": [
    {
     "name": "stdout",
     "output_type": "stream",
     "text": [
      "P=99.73002039367398%\n"
     ]
    }
   ],
   "source": [
    "import matplotlib.pyplot as plt\n",
    "import numpy as np\n",
    "\n",
    "def cdf(y,u=u1,s=s1 ):\n",
    "    from scipy.special import erf\n",
    "    return 0.5*(1+erf((y-u)/(s*2**0.5)))\n",
    "\n",
    "y_low = u1-3*s1\n",
    "y_high = u1+3*s1\n",
    "P=cdf(y_high)-cdf(y_low)\n",
    "print(f'P={100*P}%')"
   ]
  },
  {
   "cell_type": "markdown",
   "metadata": {},
   "source": [
    "### It is normal distribution"
   ]
  },
  {
   "cell_type": "code",
   "execution_count": null,
   "metadata": {},
   "outputs": [],
   "source": []
  }
 ],
 "metadata": {
  "kernelspec": {
   "display_name": "Python 3",
   "language": "python",
   "name": "python3"
  },
  "language_info": {
   "codemirror_mode": {
    "name": "ipython",
    "version": 3
   },
   "file_extension": ".py",
   "mimetype": "text/x-python",
   "name": "python",
   "nbconvert_exporter": "python",
   "pygments_lexer": "ipython3",
   "version": "3.8.8"
  }
 },
 "nbformat": 4,
 "nbformat_minor": 2
}

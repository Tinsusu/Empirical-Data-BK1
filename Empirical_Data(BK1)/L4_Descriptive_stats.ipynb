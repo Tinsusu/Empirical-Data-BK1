{
 "cells": [
  {
   "cell_type": "markdown",
   "metadata": {},
   "source": [
    "# Exercise 4.1 Summary statistics of popcorn data"
   ]
  },
  {
   "cell_type": "markdown",
   "metadata": {},
   "source": [
    "### 1. Plot histograms of the short and the long dimensions of the popcorns.\n"
   ]
  },
  {
   "cell_type": "code",
   "execution_count": 18,
   "metadata": {},
   "outputs": [
    {
     "data": {
      "text/html": [
       "<div>\n",
       "<style scoped>\n",
       "    .dataframe tbody tr th:only-of-type {\n",
       "        vertical-align: middle;\n",
       "    }\n",
       "\n",
       "    .dataframe tbody tr th {\n",
       "        vertical-align: top;\n",
       "    }\n",
       "\n",
       "    .dataframe thead th {\n",
       "        text-align: right;\n",
       "    }\n",
       "</style>\n",
       "<table border=\"1\" class=\"dataframe\">\n",
       "  <thead>\n",
       "    <tr style=\"text-align: right;\">\n",
       "      <th></th>\n",
       "      <th>Popped</th>\n",
       "      <th>long</th>\n",
       "      <th>short</th>\n",
       "      <th>Color</th>\n",
       "      <th>Kernel_pices</th>\n",
       "    </tr>\n",
       "  </thead>\n",
       "  <tbody>\n",
       "    <tr>\n",
       "      <th>0</th>\n",
       "      <td>1</td>\n",
       "      <td>22.70</td>\n",
       "      <td>20.26</td>\n",
       "      <td>W</td>\n",
       "      <td>3</td>\n",
       "    </tr>\n",
       "    <tr>\n",
       "      <th>1</th>\n",
       "      <td>1</td>\n",
       "      <td>29.44</td>\n",
       "      <td>12.63</td>\n",
       "      <td>W</td>\n",
       "      <td>4</td>\n",
       "    </tr>\n",
       "    <tr>\n",
       "      <th>2</th>\n",
       "      <td>1</td>\n",
       "      <td>19.97</td>\n",
       "      <td>12.52</td>\n",
       "      <td>W</td>\n",
       "      <td>1</td>\n",
       "    </tr>\n",
       "    <tr>\n",
       "      <th>3</th>\n",
       "      <td>1</td>\n",
       "      <td>30.50</td>\n",
       "      <td>8.82</td>\n",
       "      <td>Y</td>\n",
       "      <td>2</td>\n",
       "    </tr>\n",
       "    <tr>\n",
       "      <th>4</th>\n",
       "      <td>0</td>\n",
       "      <td>5.55</td>\n",
       "      <td>4.68</td>\n",
       "      <td>B</td>\n",
       "      <td>1</td>\n",
       "    </tr>\n",
       "    <tr>\n",
       "      <th>...</th>\n",
       "      <td>...</td>\n",
       "      <td>...</td>\n",
       "      <td>...</td>\n",
       "      <td>...</td>\n",
       "      <td>...</td>\n",
       "    </tr>\n",
       "    <tr>\n",
       "      <th>43</th>\n",
       "      <td>1</td>\n",
       "      <td>27.49</td>\n",
       "      <td>13.83</td>\n",
       "      <td>W</td>\n",
       "      <td>2</td>\n",
       "    </tr>\n",
       "    <tr>\n",
       "      <th>44</th>\n",
       "      <td>1</td>\n",
       "      <td>4.41</td>\n",
       "      <td>1.96</td>\n",
       "      <td>Y</td>\n",
       "      <td>0</td>\n",
       "    </tr>\n",
       "    <tr>\n",
       "      <th>45</th>\n",
       "      <td>1</td>\n",
       "      <td>6.48</td>\n",
       "      <td>3.38</td>\n",
       "      <td>W</td>\n",
       "      <td>0</td>\n",
       "    </tr>\n",
       "    <tr>\n",
       "      <th>46</th>\n",
       "      <td>1</td>\n",
       "      <td>4.40</td>\n",
       "      <td>2.12</td>\n",
       "      <td>W</td>\n",
       "      <td>1</td>\n",
       "    </tr>\n",
       "    <tr>\n",
       "      <th>47</th>\n",
       "      <td>1</td>\n",
       "      <td>5.18</td>\n",
       "      <td>2.77</td>\n",
       "      <td>W</td>\n",
       "      <td>0</td>\n",
       "    </tr>\n",
       "  </tbody>\n",
       "</table>\n",
       "<p>48 rows × 5 columns</p>\n",
       "</div>"
      ],
      "text/plain": [
       "    Popped   long  short Color  Kernel_pices\n",
       "0        1  22.70  20.26     W             3\n",
       "1        1  29.44  12.63     W             4\n",
       "2        1  19.97  12.52     W             1\n",
       "3        1  30.50   8.82     Y             2\n",
       "4        0   5.55   4.68     B             1\n",
       "..     ...    ...    ...   ...           ...\n",
       "43       1  27.49  13.83     W             2\n",
       "44       1   4.41   1.96     Y             0\n",
       "45       1   6.48   3.38     W             0\n",
       "46       1   4.40   2.12     W             1\n",
       "47       1   5.18   2.77     W             0\n",
       "\n",
       "[48 rows x 5 columns]"
      ]
     },
     "execution_count": 18,
     "metadata": {},
     "output_type": "execute_result"
    }
   ],
   "source": [
    "import pandas as pd\n",
    "import numpy as np\n",
    "import matplotlib.pyplot as plt\n",
    "%matplotlib inline \n",
    "pd.set_option('display.max_rows',10)\n",
    "df = pd.read_csv('popcorn12.csv')\n",
    "df"
   ]
  },
  {
   "cell_type": "code",
   "execution_count": 22,
   "metadata": {},
   "outputs": [
    {
     "data": {
      "image/png": "[encoded data removed]",
      "text/plain": [
       "<Figure size 432x288 with 2 Axes>"
      ]
     },
     "metadata": {
      "needs_background": "light"
     },
     "output_type": "display_data"
    }
   ],
   "source": [
    "df[['long','short']].hist(bins=10,sharey=True);"
   ]
  },
  {
   "cell_type": "markdown",
   "metadata": {},
   "source": [
    "### 2.Calculate the mean and the median (both short and long dimension)."
   ]
  },
  {
   "cell_type": "code",
   "execution_count": 11,
   "metadata": {},
   "outputs": [
    {
     "name": "stdout",
     "output_type": "stream",
     "text": [
      "mean of long side = 20.1075 mean of short side = 11.065625000000004 Median of long side = 21.939999999999998 Median of short side = 11.440000000000001\n"
     ]
    }
   ],
   "source": [
    "print(\"mean of long side =\", df['long'].mean(),\n",
    "      \"mean of short side =\", df['short'].mean(),\n",
    "       \"Median of long side =\", df['long'].median(),\n",
    "       \"Median of short side =\", df['short'].median(),\n",
    "      )\n"
   ]
  },
  {
   "cell_type": "markdown",
   "metadata": {},
   "source": [
    "### 3. Calculate standard deviation and coefficient of variations for the sizes."
   ]
  },
  {
   "cell_type": "code",
   "execution_count": 13,
   "metadata": {},
   "outputs": [
    {
     "name": "stdout",
     "output_type": "stream",
     "text": [
      "Standard deveation of Long: 9.123931007042776 coefficient of variations of Long: 0.45375760323475195\n",
      "Standard deveation of short: 5.192504379268582 coefficient of variations of short: 0.46924637146736675\n"
     ]
    }
   ],
   "source": [
    "sl= df['long'].std()\n",
    "ml= df['long'].mean()\n",
    "cvl= sl/ml\n",
    "print(\"Standard deveation of Long:\", sl,\n",
    "       \"coefficient of variations of Long:\",cvl)\n",
    "\n",
    "ss= df['short'].std()\n",
    "ms= df['short'].mean()\n",
    "cvs= ss/ms\n",
    "print(\"Standard deveation of short:\", ss,\n",
    "       \"coefficient of variations of short:\",cvs)"
   ]
  },
  {
   "cell_type": "markdown",
   "metadata": {},
   "source": [
    "### 4. Calculate the quartiles and the interquartile range (IQR)."
   ]
  },
  {
   "cell_type": "code",
   "execution_count": 14,
   "metadata": {},
   "outputs": [
    {
     "data": {
      "text/html": [
       "<div>\n",
       "<style scoped>\n",
       "    .dataframe tbody tr th:only-of-type {\n",
       "        vertical-align: middle;\n",
       "    }\n",
       "\n",
       "    .dataframe tbody tr th {\n",
       "        vertical-align: top;\n",
       "    }\n",
       "\n",
       "    .dataframe thead th {\n",
       "        text-align: right;\n",
       "    }\n",
       "</style>\n",
       "<table border=\"1\" class=\"dataframe\">\n",
       "  <thead>\n",
       "    <tr style=\"text-align: right;\">\n",
       "      <th></th>\n",
       "      <th>Popped</th>\n",
       "      <th>long</th>\n",
       "      <th>short</th>\n",
       "      <th>Kernel_pices</th>\n",
       "    </tr>\n",
       "  </thead>\n",
       "  <tbody>\n",
       "    <tr>\n",
       "      <th>count</th>\n",
       "      <td>48.000000</td>\n",
       "      <td>48.000000</td>\n",
       "      <td>48.000000</td>\n",
       "      <td>48.000000</td>\n",
       "    </tr>\n",
       "    <tr>\n",
       "      <th>mean</th>\n",
       "      <td>0.916667</td>\n",
       "      <td>20.107500</td>\n",
       "      <td>11.065625</td>\n",
       "      <td>2.583333</td>\n",
       "    </tr>\n",
       "    <tr>\n",
       "      <th>std</th>\n",
       "      <td>0.279310</td>\n",
       "      <td>9.123931</td>\n",
       "      <td>5.192504</td>\n",
       "      <td>2.061123</td>\n",
       "    </tr>\n",
       "    <tr>\n",
       "      <th>min</th>\n",
       "      <td>0.000000</td>\n",
       "      <td>4.400000</td>\n",
       "      <td>1.960000</td>\n",
       "      <td>0.000000</td>\n",
       "    </tr>\n",
       "    <tr>\n",
       "      <th>25%</th>\n",
       "      <td>1.000000</td>\n",
       "      <td>14.285000</td>\n",
       "      <td>7.790000</td>\n",
       "      <td>1.000000</td>\n",
       "    </tr>\n",
       "    <tr>\n",
       "      <th>50%</th>\n",
       "      <td>1.000000</td>\n",
       "      <td>21.940000</td>\n",
       "      <td>11.440000</td>\n",
       "      <td>2.000000</td>\n",
       "    </tr>\n",
       "    <tr>\n",
       "      <th>75%</th>\n",
       "      <td>1.000000</td>\n",
       "      <td>26.667500</td>\n",
       "      <td>14.180000</td>\n",
       "      <td>4.000000</td>\n",
       "    </tr>\n",
       "    <tr>\n",
       "      <th>max</th>\n",
       "      <td>1.000000</td>\n",
       "      <td>34.060000</td>\n",
       "      <td>23.250000</td>\n",
       "      <td>9.000000</td>\n",
       "    </tr>\n",
       "  </tbody>\n",
       "</table>\n",
       "</div>"
      ],
      "text/plain": [
       "          Popped       long      short  Kernel_pices\n",
       "count  48.000000  48.000000  48.000000     48.000000\n",
       "mean    0.916667  20.107500  11.065625      2.583333\n",
       "std     0.279310   9.123931   5.192504      2.061123\n",
       "min     0.000000   4.400000   1.960000      0.000000\n",
       "25%     1.000000  14.285000   7.790000      1.000000\n",
       "50%     1.000000  21.940000  11.440000      2.000000\n",
       "75%     1.000000  26.667500  14.180000      4.000000\n",
       "max     1.000000  34.060000  23.250000      9.000000"
      ]
     },
     "execution_count": 14,
     "metadata": {},
     "output_type": "execute_result"
    }
   ],
   "source": [
    "df.describe()"
   ]
  },
  {
   "cell_type": "code",
   "execution_count": 15,
   "metadata": {},
   "outputs": [
    {
     "name": "stdout",
     "output_type": "stream",
     "text": [
      "IQR of long side: 12.3825 and IQR of short side: 6.390000000000001\n"
     ]
    }
   ],
   "source": [
    "IQR_long = df['long'].quantile(q=0.75)-df['long'].quantile(q=0.25)\n",
    "IQR_short = df['short'].quantile(q=0.75)-df['short'].quantile(q=0.25)\n",
    "\n",
    "print(\"IQR of long side:\", IQR_long, \"and\",\"IQR of short side:\",IQR_short)"
   ]
  },
  {
   "cell_type": "markdown",
   "metadata": {},
   "source": [
    "### 5. Calculate the fences(Q±1.5IQR)and determine whether any of the data are outlies."
   ]
  },
  {
   "cell_type": "code",
   "execution_count": 16,
   "metadata": {},
   "outputs": [
    {
     "data": {
      "text/html": [
       "<div>\n",
       "<style scoped>\n",
       "    .dataframe tbody tr th:only-of-type {\n",
       "        vertical-align: middle;\n",
       "    }\n",
       "\n",
       "    .dataframe tbody tr th {\n",
       "        vertical-align: top;\n",
       "    }\n",
       "\n",
       "    .dataframe thead th {\n",
       "        text-align: right;\n",
       "    }\n",
       "</style>\n",
       "<table border=\"1\" class=\"dataframe\">\n",
       "  <thead>\n",
       "    <tr style=\"text-align: right;\">\n",
       "      <th></th>\n",
       "      <th>Popped</th>\n",
       "      <th>long</th>\n",
       "      <th>short</th>\n",
       "      <th>Color</th>\n",
       "      <th>Kernel_pices</th>\n",
       "    </tr>\n",
       "  </thead>\n",
       "  <tbody>\n",
       "    <tr>\n",
       "      <th>0</th>\n",
       "      <td>1</td>\n",
       "      <td>22.70</td>\n",
       "      <td>20.26</td>\n",
       "      <td>W</td>\n",
       "      <td>3</td>\n",
       "    </tr>\n",
       "    <tr>\n",
       "      <th>1</th>\n",
       "      <td>1</td>\n",
       "      <td>29.44</td>\n",
       "      <td>12.63</td>\n",
       "      <td>W</td>\n",
       "      <td>4</td>\n",
       "    </tr>\n",
       "    <tr>\n",
       "      <th>2</th>\n",
       "      <td>1</td>\n",
       "      <td>19.97</td>\n",
       "      <td>12.52</td>\n",
       "      <td>W</td>\n",
       "      <td>1</td>\n",
       "    </tr>\n",
       "    <tr>\n",
       "      <th>3</th>\n",
       "      <td>1</td>\n",
       "      <td>30.50</td>\n",
       "      <td>8.82</td>\n",
       "      <td>Y</td>\n",
       "      <td>2</td>\n",
       "    </tr>\n",
       "    <tr>\n",
       "      <th>4</th>\n",
       "      <td>0</td>\n",
       "      <td>5.55</td>\n",
       "      <td>4.68</td>\n",
       "      <td>B</td>\n",
       "      <td>1</td>\n",
       "    </tr>\n",
       "    <tr>\n",
       "      <th>...</th>\n",
       "      <td>...</td>\n",
       "      <td>...</td>\n",
       "      <td>...</td>\n",
       "      <td>...</td>\n",
       "      <td>...</td>\n",
       "    </tr>\n",
       "    <tr>\n",
       "      <th>43</th>\n",
       "      <td>1</td>\n",
       "      <td>27.49</td>\n",
       "      <td>13.83</td>\n",
       "      <td>W</td>\n",
       "      <td>2</td>\n",
       "    </tr>\n",
       "    <tr>\n",
       "      <th>44</th>\n",
       "      <td>1</td>\n",
       "      <td>4.41</td>\n",
       "      <td>1.96</td>\n",
       "      <td>Y</td>\n",
       "      <td>0</td>\n",
       "    </tr>\n",
       "    <tr>\n",
       "      <th>45</th>\n",
       "      <td>1</td>\n",
       "      <td>6.48</td>\n",
       "      <td>3.38</td>\n",
       "      <td>W</td>\n",
       "      <td>0</td>\n",
       "    </tr>\n",
       "    <tr>\n",
       "      <th>46</th>\n",
       "      <td>1</td>\n",
       "      <td>4.40</td>\n",
       "      <td>2.12</td>\n",
       "      <td>W</td>\n",
       "      <td>1</td>\n",
       "    </tr>\n",
       "    <tr>\n",
       "      <th>47</th>\n",
       "      <td>1</td>\n",
       "      <td>5.18</td>\n",
       "      <td>2.77</td>\n",
       "      <td>W</td>\n",
       "      <td>0</td>\n",
       "    </tr>\n",
       "  </tbody>\n",
       "</table>\n",
       "<p>48 rows × 5 columns</p>\n",
       "</div>"
      ],
      "text/plain": [
       "    Popped   long  short Color  Kernel_pices\n",
       "0        1  22.70  20.26     W             3\n",
       "1        1  29.44  12.63     W             4\n",
       "2        1  19.97  12.52     W             1\n",
       "3        1  30.50   8.82     Y             2\n",
       "4        0   5.55   4.68     B             1\n",
       "..     ...    ...    ...   ...           ...\n",
       "43       1  27.49  13.83     W             2\n",
       "44       1   4.41   1.96     Y             0\n",
       "45       1   6.48   3.38     W             0\n",
       "46       1   4.40   2.12     W             1\n",
       "47       1   5.18   2.77     W             0\n",
       "\n",
       "[48 rows x 5 columns]"
      ]
     },
     "execution_count": 16,
     "metadata": {},
     "output_type": "execute_result"
    }
   ],
   "source": [
    "df"
   ]
  },
  {
   "cell_type": "code",
   "execution_count": 17,
   "metadata": {},
   "outputs": [
    {
     "name": "stdout",
     "output_type": "stream",
     "text": [
      "-1.7950000000000017 23.765\n"
     ]
    }
   ],
   "source": [
    "IQR_short = df['short'].quantile(q=0.75)-df['short'].quantile(q=0.25)\n",
    "lower_short= df['short'].quantile(q=0.25)- IQR_short*1.5\n",
    "upper_short= df['short'].quantile(q=0.75)+ IQR_short*1.5\n",
    "print(lower_short,upper_short)"
   ]
  },
  {
   "cell_type": "code",
   "execution_count": 18,
   "metadata": {},
   "outputs": [
    {
     "name": "stdout",
     "output_type": "stream",
     "text": [
      "-4.28875 45.24125\n"
     ]
    }
   ],
   "source": [
    "IQR_long = df['long'].quantile(q=0.75)-df['long'].quantile(q=0.25)\n",
    "lower_long= df['long'].quantile(q=0.25)- IQR_long*1.5\n",
    "upper_long= df['long'].quantile(q=0.75)+ IQR_long*1.5\n",
    "print(lower_long, upper_long)"
   ]
  },
  {
   "cell_type": "markdown",
   "metadata": {},
   "source": [
    "### 6. Make a side-by-side boxplot of the short and long dimension."
   ]
  },
  {
   "cell_type": "code",
   "execution_count": 20,
   "metadata": {},
   "outputs": [
    {
     "data": {
      "text/plain": [
       "<matplotlib.axes._subplots.AxesSubplot at 0x1192ccdd8>"
      ]
     },
     "execution_count": 20,
     "metadata": {},
     "output_type": "execute_result"
    },
    {
     "data": {
      "image/png": "[encoded data removed]",
      "text/plain": [
       "<Figure size 432x288 with 1 Axes>"
      ]
     },
     "metadata": {
      "needs_background": "light"
     },
     "output_type": "display_data"
    }
   ],
   "source": [
    "df.boxplot(column= ['long','short'])"
   ]
  },
  {
   "cell_type": "code",
   "execution_count": 21,
   "metadata": {},
   "outputs": [
    {
     "data": {
      "text/plain": [
       "<matplotlib.axes._subplots.AxesSubplot at 0x1193dd278>"
      ]
     },
     "execution_count": 21,
     "metadata": {},
     "output_type": "execute_result"
    },
    {
     "data": {
      "image/png": "[encoded data removed]",
      "text/plain": [
       "<Figure size 432x288 with 1 Axes>"
      ]
     },
     "metadata": {
      "needs_background": "light"
     },
     "output_type": "display_data"
    }
   ],
   "source": [
    "df.plot.scatter(x='long', y='short', title= 'correlation')"
   ]
  },
  {
   "cell_type": "markdown",
   "metadata": {},
   "source": [
    "### 7. Compare your summarized popcorn size data with that of other groups in your class. Interpret. Which popcorn is better and why short and long dimension?"
   ]
  },
  {
   "cell_type": "markdown",
   "metadata": {},
   "source": [
    "# Exercise 4.2: Summarize statistics data from researchers of the Life Sciences"
   ]
  },
  {
   "cell_type": "markdown",
   "metadata": {},
   "source": [
    "## 1. Consider the data in Table 4.5. Compute the median and the mean, first"
   ]
  },
  {
   "cell_type": "code",
   "execution_count": 6,
   "metadata": {},
   "outputs": [
    {
     "data": {
      "text/plain": [
       "0    6.3\n",
       "1    5.9\n",
       "2    7.0\n",
       "3    6.9\n",
       "4    5.9\n",
       "Name: Carsinogenic, dtype: float64"
      ]
     },
     "execution_count": 6,
     "metadata": {},
     "output_type": "execute_result"
    }
   ],
   "source": [
    "import pandas as pd\n",
    "import numpy as np\n",
    "import matplotlib.pyplot as plt\n",
    "%matplotlib inline \n",
    "%matplotlib inline\n",
    "import matplotlib.pyplot as plt\n",
    "import numpy as np\n",
    "import pandas as pd\n",
    "series = pd.Series( name= 'Carsinogenic',\n",
    "data = [6.3,5.9,7.0,6.9,5.9\n",
    "] )\n",
    "series"
   ]
  },
  {
   "cell_type": "code",
   "execution_count": 51,
   "metadata": {},
   "outputs": [
    {
     "name": "stdout",
     "output_type": "stream",
     "text": [
      "MEAN: 6.4 MEDIAN: 6.3\n"
     ]
    }
   ],
   "source": [
    "print(\"MEAN:\",series.mean(),\"MEDIAN:\",series.median())"
   ]
  },
  {
   "cell_type": "markdown",
   "metadata": {},
   "source": [
    "## 2. Investigate the data in Table 4.6."
   ]
  },
  {
   "cell_type": "code",
   "execution_count": 1,
   "metadata": {},
   "outputs": [
    {
     "data": {
      "text/plain": [
       "0    14\n",
       "1    14\n",
       "2    15\n",
       "3    26\n",
       "4    13\n",
       "5    16\n",
       "6    21\n",
       "7    20\n",
       "8    15\n",
       "9    13\n",
       "Name: VirusResistanceBac, dtype: int64"
      ]
     },
     "execution_count": 1,
     "metadata": {},
     "output_type": "execute_result"
    }
   ],
   "source": [
    "import pandas as pd\n",
    "import numpy as np\n",
    "import matplotlib.pyplot as plt\n",
    "%matplotlib inline \n",
    "series = pd.Series( name= 'VirusResistanceBac',\n",
    "data = [14,14,15,26,13,16,21,20,15,13\n",
    "] )\n",
    "series"
   ]
  },
  {
   "cell_type": "code",
   "execution_count": 3,
   "metadata": {},
   "outputs": [
    {
     "name": "stdout",
     "output_type": "stream",
     "text": [
      "MEAN: 16.7 MEDIAN: 15.0 Q1: 14.0 Q3: 19.0\n"
     ]
    }
   ],
   "source": [
    "print(\"MEAN:\",series.mean(),\"MEDIAN:\",series.median(),\n",
    "      \"Q1:\",series.quantile(q=0.25),\n",
    "      \"Q3:\",series.quantile(q=0.75))"
   ]
  },
  {
   "cell_type": "markdown",
   "metadata": {},
   "source": [
    "### a) Compute the median and the quatiles."
   ]
  },
  {
   "cell_type": "code",
   "execution_count": 30,
   "metadata": {
    "scrolled": true
   },
   "outputs": [
    {
     "name": "stdout",
     "output_type": "stream",
     "text": [
      "MEAN: 16.7 MEDIAN: 15.0 Q1: 14.0 Q3: 20\n"
     ]
    }
   ],
   "source": [
    "print(\"MEAN:\",series.mean(),\"MEDIAN:\",series.median(),\n",
    "      \"Q1:\",series.quantile(q=0.25),\n",
    "      \"Q3:\",series.quantile(q=0.75,interpolation = 'nearest'))"
   ]
  },
  {
   "cell_type": "code",
   "execution_count": null,
   "metadata": {},
   "outputs": [],
   "source": [
    "series.quantile()"
   ]
  },
  {
   "cell_type": "code",
   "execution_count": 17,
   "metadata": {},
   "outputs": [
    {
     "data": {
      "image/png": "[encoded data removed]",
      "text/plain": [
       "<Figure size 432x288 with 1 Axes>"
      ]
     },
     "metadata": {
      "needs_background": "light"
     },
     "output_type": "display_data"
    }
   ],
   "source": [
    "series.plot.box(grid=True);"
   ]
  },
  {
   "cell_type": "markdown",
   "metadata": {},
   "source": [
    "### b) Determine the interquartile range (IQR)"
   ]
  },
  {
   "cell_type": "code",
   "execution_count": 55,
   "metadata": {},
   "outputs": [
    {
     "name": "stdout",
     "output_type": "stream",
     "text": [
      "Q1: 14.0 Q3: 19.0 IQR: 5.0\n"
     ]
    }
   ],
   "source": [
    "print (\"Q1:\",series.quantile(q=0.25),\n",
    "      \"Q3:\",series.quantile(q=0.75),\n",
    "      \"IQR:\",series.quantile(q=0.75)- series.quantile(q=0.25))"
   ]
  },
  {
   "cell_type": "markdown",
   "metadata": {},
   "source": [
    "### C) How large would an observation in this data set have to bei norder to be an outlier?"
   ]
  },
  {
   "cell_type": "code",
   "execution_count": 56,
   "metadata": {
    "scrolled": true
   },
   "outputs": [
    {
     "name": "stdout",
     "output_type": "stream",
     "text": [
      "The outlier is lower than: 6.5 and higher than : 26.5\n"
     ]
    }
   ],
   "source": [
    "q1=series.quantile(q=0.25)\n",
    "q3=series.quantile(q=0.75)\n",
    "IQR= q3-q1\n",
    "lower= q1-IQR*1.5\n",
    "Upper= q3+IQR*1.5\n",
    "print(\"The outlier is lower than:\",lower, \"and higher than :\",Upper)"
   ]
  },
  {
   "cell_type": "markdown",
   "metadata": {},
   "source": [
    "## 3. Consider the data in Table 4.7 on dopanime levels in the brains of rats."
   ]
  },
  {
   "cell_type": "markdown",
   "metadata": {},
   "source": [
    "### a) Calculate the mean and standard deviation."
   ]
  },
  {
   "cell_type": "code",
   "execution_count": 57,
   "metadata": {},
   "outputs": [
    {
     "data": {
      "text/plain": [
       "0    6.8\n",
       "1    5.3\n",
       "2    6.0\n",
       "3    5.9\n",
       "4    6.8\n",
       "Name: dopamine_RAT, dtype: float64"
      ]
     },
     "execution_count": 57,
     "metadata": {},
     "output_type": "execute_result"
    }
   ],
   "source": [
    "import pandas as pd\n",
    "import numpy as np\n",
    "import matplotlib.pyplot as plt\n",
    "%matplotlib inline \n",
    "series = pd.Series( name= 'dopamine_RAT',\n",
    "data = [6.8,5.3,6.0,5.9,6.8] )\n",
    "series"
   ]
  },
  {
   "cell_type": "code",
   "execution_count": 58,
   "metadata": {},
   "outputs": [
    {
     "name": "stdout",
     "output_type": "stream",
     "text": [
      "MEAN: 6.16 STD: 0.6426507605223851\n"
     ]
    }
   ],
   "source": [
    "print(\"MEAN:\",series.mean(),\"STD:\",series.std())"
   ]
  },
  {
   "cell_type": "markdown",
   "metadata": {},
   "source": [
    "### b) Determine the median and interquartile range (IQR)."
   ]
  },
  {
   "cell_type": "code",
   "execution_count": 59,
   "metadata": {},
   "outputs": [
    {
     "name": "stdout",
     "output_type": "stream",
     "text": [
      "Median: 6.0 Q1: 5.9 Q3: 6.8 IQR: 0.8999999999999995\n"
     ]
    }
   ],
   "source": [
    "print (\"Median:\",series.median(),\n",
    "    \"Q1:\",series.quantile(q=0.25),\n",
    "      \"Q3:\",series.quantile(q=0.75),\n",
    "      \"IQR:\",series.quantile(q=0.75)- series.quantile(q=0.25))"
   ]
  },
  {
   "cell_type": "markdown",
   "metadata": {},
   "source": [
    "### c) Calculate the coefficient of variation."
   ]
  },
  {
   "cell_type": "code",
   "execution_count": 60,
   "metadata": {},
   "outputs": [
    {
     "name": "stdout",
     "output_type": "stream",
     "text": [
      "CV: 0.10432642216272485\n"
     ]
    }
   ],
   "source": [
    "print(\"CV:\",series.std()/series.mean())"
   ]
  },
  {
   "cell_type": "markdown",
   "metadata": {},
   "source": [
    "## 4. Investigate the data in Table 4.8 of MAO activities:"
   ]
  },
  {
   "cell_type": "code",
   "execution_count": 7,
   "metadata": {},
   "outputs": [
    {
     "data": {
      "text/plain": [
       "0      6.8\n",
       "1      9.9\n",
       "2      7.9\n",
       "3      8.4\n",
       "4      4.1\n",
       "5      7.4\n",
       "6      8.7\n",
       "7      9.7\n",
       "8      7.3\n",
       "9     11.9\n",
       "10    12.7\n",
       "11    10.6\n",
       "12    14.2\n",
       "13     5.2\n",
       "14    14.5\n",
       "15    18.8\n",
       "16     7.8\n",
       "17    10.7\n",
       "Name: MAO, dtype: float64"
      ]
     },
     "execution_count": 7,
     "metadata": {},
     "output_type": "execute_result"
    }
   ],
   "source": [
    "import pandas as pd\n",
    "import numpy as np\n",
    "import matplotlib.pyplot as plt\n",
    "%matplotlib inline \n",
    "%matplotlib inline\n",
    "import matplotlib.pyplot as plt\n",
    "import numpy as np\n",
    "import pandas as pd\n",
    "series = pd.Series( name= 'MAO',\n",
    "data = [6.8,9.9,7.9,8.4,4.1,7.4,8.7,9.7,7.3,11.9,12.7,10.6,14.2,5.2,14.5,18.8,7.8,10.7] )\n",
    "series"
   ]
  },
  {
   "cell_type": "markdown",
   "metadata": {},
   "source": [
    "### a) Construct a dotplot of the data."
   ]
  },
  {
   "cell_type": "code",
   "execution_count": 2,
   "metadata": {},
   "outputs": [
    {
     "data": {
      "image/png": "[encoded data removed]",
      "text/plain": [
       "<Figure size 432x36 with 1 Axes>"
      ]
     },
     "metadata": {
      "needs_background": "light"
     },
     "output_type": "display_data"
    }
   ],
   "source": [
    "plt.figure(figsize=[6, 0.5]) \n",
    "plt.plot(series,series*0,'o')\n",
    "plt.yticks([])\n",
    "plt.xlim(1,20)\n",
    "plt.xlabel('MAO Activities')\n",
    "plt.show()"
   ]
  },
  {
   "cell_type": "markdown",
   "metadata": {},
   "source": [
    "### b) Compute the median of the data."
   ]
  },
  {
   "cell_type": "code",
   "execution_count": 3,
   "metadata": {},
   "outputs": [
    {
     "name": "stdout",
     "output_type": "stream",
     "text": [
      "MEDIAN: 9.2\n"
     ]
    }
   ],
   "source": [
    "print(\"MEDIAN:\",series.median())"
   ]
  },
  {
   "cell_type": "markdown",
   "metadata": {},
   "source": [
    "### c) Make a box plot. Where is the median on your boxplot (and does it agree with your above answer).\n"
   ]
  },
  {
   "cell_type": "code",
   "execution_count": 10,
   "metadata": {
    "scrolled": true
   },
   "outputs": [
    {
     "data": {
      "text/plain": [
       "<matplotlib.axes._subplots.AxesSubplot at 0x117677400>"
      ]
     },
     "execution_count": 10,
     "metadata": {},
     "output_type": "execute_result"
    },
    {
     "data": {
      "image/png": "[encoded data removed]",
      "text/plain": [
       "<Figure size 432x288 with 1 Axes>"
      ]
     },
     "metadata": {
      "needs_background": "light"
     },
     "output_type": "display_data"
    }
   ],
   "source": [
    "series.plot(kind='box',whis=(0,100))"
   ]
  },
  {
   "cell_type": "code",
   "execution_count": 11,
   "metadata": {},
   "outputs": [
    {
     "data": {
      "text/plain": [
       "<matplotlib.axes._subplots.AxesSubplot at 0x117742eb8>"
      ]
     },
     "execution_count": 11,
     "metadata": {},
     "output_type": "execute_result"
    },
    {
     "data": {
      "image/png": "[encoded data removed]",
      "text/plain": [
       "<Figure size 432x288 with 1 Axes>"
      ]
     },
     "metadata": {
      "needs_background": "light"
     },
     "output_type": "display_data"
    }
   ],
   "source": [
    "series.plot(kind='box')"
   ]
  },
  {
   "cell_type": "markdown",
   "metadata": {},
   "source": [
    "## 5.Consider the data on serum creatine phosphokinase(CK) levels on healty men. What percentage of of observations are within\n"
   ]
  },
  {
   "cell_type": "code",
   "execution_count": 1,
   "metadata": {},
   "outputs": [
    {
     "name": "stdout",
     "output_type": "stream",
     "text": [
      "Statistics=0.102, p=0.950\n",
      "Sample looks Gaussian (fail to reject H0)\n"
     ]
    }
   ],
   "source": [
    "# D'Agostino and Pearson's Test\n",
    "from numpy.random import seed\n",
    "from numpy.random import randn\n",
    "from scipy.stats import normaltest\n",
    "# seed the random number generator\n",
    "seed(1)\n",
    "# generate univariate observations\n",
    "data = 5 * randn(100) + 50\n",
    "# normality test\n",
    "stat, p = normaltest(data)\n",
    "print('Statistics=%.3f, p=%.3f' % (stat, p))\n",
    "# interpret\n",
    "alpha = 0.05\n",
    "if p > alpha:\n",
    "\tprint('Sample looks Gaussian (fail to reject H0)')\n",
    "else:\n",
    "\tprint('Sample does not look Gaussian (reject H0)')"
   ]
  },
  {
   "cell_type": "markdown",
   "metadata": {},
   "source": [
    "### a) one standard deviation of the mean, = 68%"
   ]
  },
  {
   "cell_type": "markdown",
   "metadata": {},
   "source": [
    "### b) two standard deviation of the mean, and = 95%"
   ]
  },
  {
   "cell_type": "markdown",
   "metadata": {},
   "source": [
    "### c) three standard deviation of the mean? = 99%"
   ]
  },
  {
   "cell_type": "code",
   "execution_count": 25,
   "metadata": {},
   "outputs": [],
   "source": [
    "import pandas as pd\n",
    "data = [2,4,6]"
   ]
  },
  {
   "cell_type": "code",
   "execution_count": 30,
   "metadata": {},
   "outputs": [
    {
     "name": "stdout",
     "output_type": "stream",
     "text": [
      "2 2 1.0\n",
      "2.0\n",
      "4 6 2.0\n",
      "3.0\n",
      "6 12 3.0\n",
      "4.0\n"
     ]
    }
   ],
   "source": [
    "data = [2,4,6]\n",
    "sum=0\n",
    "bc=0.0\n",
    "for d in data:\n",
    "    sum=sum+d\n",
    "    bc=bc+1\n",
    "    mean=sum/bc\n",
    "    print(d, sum,bc)\n",
    "    print(mean)"
   ]
  },
  {
   "cell_type": "markdown",
   "metadata": {},
   "source": [
    "## EXERCISE plot  y=sine(x)/x"
   ]
  },
  {
   "cell_type": "code",
   "execution_count": null,
   "metadata": {},
   "outputs": [],
   "source": [
    "%matplotib inline #tell jupyter we can use inline, notebook(more interactive way)"
   ]
  },
  {
   "cell_type": "code",
   "execution_count": null,
   "metadata": {},
   "outputs": [],
   "source": []
  }
 ],
 "metadata": {
  "kernelspec": {
   "display_name": "Python 3 (ipykernel)",
   "language": "python",
   "name": "python3"
  },
  "language_info": {
   "codemirror_mode": {
    "name": "ipython",
    "version": 3
   },
   "file_extension": ".py",
   "mimetype": "text/x-python",
   "name": "python",
   "nbconvert_exporter": "python",
   "pygments_lexer": "ipython3",
   "version": "3.11.7"
  }
 },
 "nbformat": 4,
 "nbformat_minor": 4
}

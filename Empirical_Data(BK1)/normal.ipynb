{
 "cells": [
  {
   "cell_type": "code",
   "execution_count": 33,
   "metadata": {},
   "outputs": [],
   "source": [
    "import pandas as pd\n",
    "import numpy as np\n",
    "import matplotlib.pyplot as plt\n",
    "from numpy.random import randn"
   ]
  },
  {
   "cell_type": "code",
   "execution_count": 4,
   "metadata": {},
   "outputs": [
    {
     "data": {
      "text/plain": [
       "-0.26969064349387406"
      ]
     },
     "execution_count": 4,
     "metadata": {},
     "output_type": "execute_result"
    }
   ],
   "source": [
    "randn()"
   ]
  },
  {
   "cell_type": "markdown",
   "metadata": {},
   "source": [
    "$\\mu$ = mu gives the mean and $\\sigma$ = s gives the standard deviation"
   ]
  },
  {
   "cell_type": "code",
   "execution_count": 9,
   "metadata": {},
   "outputs": [
    {
     "name": "stdout",
     "output_type": "stream",
     "text": [
      "1.4842271077678078\n"
     ]
    }
   ],
   "source": [
    "mu = 5\n",
    "s=3\n",
    "y = randn()*s+mu\n",
    "print(y)"
   ]
  },
  {
   "cell_type": "code",
   "execution_count": 13,
   "metadata": {},
   "outputs": [
    {
     "name": "stdout",
     "output_type": "stream",
     "text": [
      "[ 6.22275256  4.75430177  1.68165848  4.39981862  8.40777836  3.70611628\n",
      "  1.25122082  4.76065178  2.81468662 10.5653331 ]\n"
     ]
    }
   ],
   "source": [
    "ys=randn(10)*s+mu\n",
    "print(ys)"
   ]
  },
  {
   "cell_type": "code",
   "execution_count": 40,
   "metadata": {},
   "outputs": [
    {
     "data": {
      "text/plain": [
       "0    2.084553\n",
       "1    3.534304\n",
       "2    6.170944\n",
       "3    5.408337\n",
       "dtype: float64"
      ]
     },
     "execution_count": 40,
     "metadata": {},
     "output_type": "execute_result"
    }
   ],
   "source": [
    "ydata= pd.Series(randn(20)*s+mu)\n",
    "ydata.head(4)"
   ]
  },
  {
   "cell_type": "code",
   "execution_count": 23,
   "metadata": {},
   "outputs": [
    {
     "data": {
      "text/plain": [
       "<matplotlib.axes._subplots.AxesSubplot at 0x7f3ffd463080>"
      ]
     },
     "execution_count": 23,
     "metadata": {},
     "output_type": "execute_result"
    },
    {
     "data": {
      "image/png": "[encoded data removed]",
      "text/plain": [
       "<Figure size 432x288 with 1 Axes>"
      ]
     },
     "metadata": {
      "needs_background": "light"
     },
     "output_type": "display_data"
    }
   ],
   "source": [
    "ydata.plot.hist(density=True)"
   ]
  },
  {
   "cell_type": "code",
   "execution_count": 25,
   "metadata": {},
   "outputs": [
    {
     "data": {
      "text/plain": [
       "<matplotlib.axes._subplots.AxesSubplot at 0x7f3ffd2ad198>"
      ]
     },
     "execution_count": 25,
     "metadata": {},
     "output_type": "execute_result"
    },
    {
     "data": {
      "image/png": "[encoded data removed]",
      "text/plain": [
       "<Figure size 288x216 with 1 Axes>"
      ]
     },
     "metadata": {
      "needs_background": "light"
     },
     "output_type": "display_data"
    }
   ],
   "source": [
    "ydata.plot.hist(figsize=(4,3),bins=np.arange(-5, 20, 1.0),density=True)"
   ]
  },
  {
   "cell_type": "markdown",
   "metadata": {},
   "source": [
    "# The cumulated density function (cdf)"
   ]
  },
  {
   "cell_type": "code",
   "execution_count": 26,
   "metadata": {},
   "outputs": [],
   "source": [
    "from scipy.stats import norm"
   ]
  },
  {
   "cell_type": "code",
   "execution_count": 27,
   "metadata": {},
   "outputs": [
    {
     "data": {
      "text/plain": [
       "0.09121121972586788"
      ]
     },
     "execution_count": 27,
     "metadata": {},
     "output_type": "execute_result"
    }
   ],
   "source": [
    "y=1\n",
    "norm.cdf(y,mu,s)"
   ]
  },
  {
   "cell_type": "markdown",
   "metadata": {},
   "source": [
    "So we $\\Phi(y;\\mu,\\sigma)$ = norm.cdf(y,mu,s).  Now let us plot the graph og $\\Phi$"
   ]
  },
  {
   "cell_type": "code",
   "execution_count": 30,
   "metadata": {},
   "outputs": [
    {
     "name": "stdout",
     "output_type": "stream",
     "text": [
      "[-5.00000000e+00 -4.90000000e+00 -4.80000000e+00 -4.70000000e+00\n",
      " -4.60000000e+00 -4.50000000e+00 -4.40000000e+00 -4.30000000e+00\n",
      " -4.20000000e+00 -4.10000000e+00 -4.00000000e+00 -3.90000000e+00\n",
      " -3.80000000e+00 -3.70000000e+00 -3.60000000e+00 -3.50000000e+00\n",
      " -3.40000000e+00 -3.30000000e+00 -3.20000000e+00 -3.10000000e+00\n",
      " -3.00000000e+00 -2.90000000e+00 -2.80000000e+00 -2.70000000e+00\n",
      " -2.60000000e+00 -2.50000000e+00 -2.40000000e+00 -2.30000000e+00\n",
      " -2.20000000e+00 -2.10000000e+00 -2.00000000e+00 -1.90000000e+00\n",
      " -1.80000000e+00 -1.70000000e+00 -1.60000000e+00 -1.50000000e+00\n",
      " -1.40000000e+00 -1.30000000e+00 -1.20000000e+00 -1.10000000e+00\n",
      " -1.00000000e+00 -9.00000000e-01 -8.00000000e-01 -7.00000000e-01\n",
      " -6.00000000e-01 -5.00000000e-01 -4.00000000e-01 -3.00000000e-01\n",
      " -2.00000000e-01 -1.00000000e-01 -1.77635684e-14  1.00000000e-01\n",
      "  2.00000000e-01  3.00000000e-01  4.00000000e-01  5.00000000e-01\n",
      "  6.00000000e-01  7.00000000e-01  8.00000000e-01  9.00000000e-01\n",
      "  1.00000000e+00  1.10000000e+00  1.20000000e+00  1.30000000e+00\n",
      "  1.40000000e+00  1.50000000e+00  1.60000000e+00  1.70000000e+00\n",
      "  1.80000000e+00  1.90000000e+00  2.00000000e+00  2.10000000e+00\n",
      "  2.20000000e+00  2.30000000e+00  2.40000000e+00  2.50000000e+00\n",
      "  2.60000000e+00  2.70000000e+00  2.80000000e+00  2.90000000e+00\n",
      "  3.00000000e+00  3.10000000e+00  3.20000000e+00  3.30000000e+00\n",
      "  3.40000000e+00  3.50000000e+00  3.60000000e+00  3.70000000e+00\n",
      "  3.80000000e+00  3.90000000e+00  4.00000000e+00  4.10000000e+00\n",
      "  4.20000000e+00  4.30000000e+00  4.40000000e+00  4.50000000e+00\n",
      "  4.60000000e+00  4.70000000e+00  4.80000000e+00  4.90000000e+00\n",
      "  5.00000000e+00  5.10000000e+00  5.20000000e+00  5.30000000e+00\n",
      "  5.40000000e+00  5.50000000e+00  5.60000000e+00  5.70000000e+00\n",
      "  5.80000000e+00  5.90000000e+00  6.00000000e+00  6.10000000e+00\n",
      "  6.20000000e+00  6.30000000e+00  6.40000000e+00  6.50000000e+00\n",
      "  6.60000000e+00  6.70000000e+00  6.80000000e+00  6.90000000e+00\n",
      "  7.00000000e+00  7.10000000e+00  7.20000000e+00  7.30000000e+00\n",
      "  7.40000000e+00  7.50000000e+00  7.60000000e+00  7.70000000e+00\n",
      "  7.80000000e+00  7.90000000e+00  8.00000000e+00  8.10000000e+00\n",
      "  8.20000000e+00  8.30000000e+00  8.40000000e+00  8.50000000e+00\n",
      "  8.60000000e+00  8.70000000e+00  8.80000000e+00  8.90000000e+00\n",
      "  9.00000000e+00  9.10000000e+00  9.20000000e+00  9.30000000e+00\n",
      "  9.40000000e+00  9.50000000e+00  9.60000000e+00  9.70000000e+00\n",
      "  9.80000000e+00  9.90000000e+00  1.00000000e+01  1.01000000e+01\n",
      "  1.02000000e+01  1.03000000e+01  1.04000000e+01  1.05000000e+01\n",
      "  1.06000000e+01  1.07000000e+01  1.08000000e+01  1.09000000e+01\n",
      "  1.10000000e+01  1.11000000e+01  1.12000000e+01  1.13000000e+01\n",
      "  1.14000000e+01  1.15000000e+01  1.16000000e+01  1.17000000e+01\n",
      "  1.18000000e+01  1.19000000e+01  1.20000000e+01  1.21000000e+01\n",
      "  1.22000000e+01  1.23000000e+01  1.24000000e+01  1.25000000e+01\n",
      "  1.26000000e+01  1.27000000e+01  1.28000000e+01  1.29000000e+01\n",
      "  1.30000000e+01  1.31000000e+01  1.32000000e+01  1.33000000e+01\n",
      "  1.34000000e+01  1.35000000e+01  1.36000000e+01  1.37000000e+01\n",
      "  1.38000000e+01  1.39000000e+01  1.40000000e+01  1.41000000e+01\n",
      "  1.42000000e+01  1.43000000e+01  1.44000000e+01  1.45000000e+01\n",
      "  1.46000000e+01  1.47000000e+01  1.48000000e+01  1.49000000e+01\n",
      "  1.50000000e+01  1.51000000e+01  1.52000000e+01  1.53000000e+01\n",
      "  1.54000000e+01  1.55000000e+01  1.56000000e+01  1.57000000e+01\n",
      "  1.58000000e+01  1.59000000e+01  1.60000000e+01  1.61000000e+01\n",
      "  1.62000000e+01  1.63000000e+01  1.64000000e+01  1.65000000e+01\n",
      "  1.66000000e+01  1.67000000e+01  1.68000000e+01  1.69000000e+01\n",
      "  1.70000000e+01  1.71000000e+01  1.72000000e+01  1.73000000e+01\n",
      "  1.74000000e+01  1.75000000e+01  1.76000000e+01  1.77000000e+01\n",
      "  1.78000000e+01  1.79000000e+01  1.80000000e+01  1.81000000e+01\n",
      "  1.82000000e+01  1.83000000e+01  1.84000000e+01  1.85000000e+01\n",
      "  1.86000000e+01  1.87000000e+01  1.88000000e+01  1.89000000e+01\n",
      "  1.90000000e+01  1.91000000e+01  1.92000000e+01  1.93000000e+01\n",
      "  1.94000000e+01  1.95000000e+01  1.96000000e+01  1.97000000e+01\n",
      "  1.98000000e+01  1.99000000e+01]\n"
     ]
    }
   ],
   "source": [
    "yvalues=np.arange(-5.0,20.0,0.1)\n",
    "print(yvalues)"
   ]
  },
  {
   "cell_type": "code",
   "execution_count": 32,
   "metadata": {},
   "outputs": [],
   "source": [
    "cdfs=norm.cdf(yvalues,mu,s)"
   ]
  },
  {
   "cell_type": "code",
   "execution_count": 34,
   "metadata": {},
   "outputs": [
    {
     "data": {
      "text/plain": [
       "[<matplotlib.lines.Line2D at 0x7f3ffba09940>]"
      ]
     },
     "execution_count": 34,
     "metadata": {},
     "output_type": "execute_result"
    },
    {
     "data": {
      "image/png": "[encoded data removed]",
      "text/plain": [
       "<Figure size 432x288 with 1 Axes>"
      ]
     },
     "metadata": {
      "needs_background": "light"
     },
     "output_type": "display_data"
    }
   ],
   "source": [
    "plt.plot(yvalues,cdfs,'-r')"
   ]
  },
  {
   "cell_type": "code",
   "execution_count": 37,
   "metadata": {},
   "outputs": [],
   "source": [
    "densities=norm.pdf(yvalues,mu,s)"
   ]
  },
  {
   "cell_type": "code",
   "execution_count": 39,
   "metadata": {},
   "outputs": [
    {
     "data": {
      "text/plain": [
       "[<matplotlib.lines.Line2D at 0x7f3ffb9ecf60>]"
      ]
     },
     "execution_count": 39,
     "metadata": {},
     "output_type": "execute_result"
    },
    {
     "data": {
      "image/png": "[encoded data removed]",
      "text/plain": [
       "<Figure size 432x288 with 1 Axes>"
      ]
     },
     "metadata": {
      "needs_background": "light"
     },
     "output_type": "display_data"
    }
   ],
   "source": [
    "plt.plot(yvalues,densities)"
   ]
  },
  {
   "cell_type": "code",
   "execution_count": null,
   "metadata": {},
   "outputs": [],
   "source": []
  }
 ],
 "metadata": {
  "kernelspec": {
   "display_name": "Python 3",
   "language": "python",
   "name": "python3"
  },
  "language_info": {
   "codemirror_mode": {
    "name": "ipython",
    "version": 3
   },
   "file_extension": ".py",
   "mimetype": "text/x-python",
   "name": "python",
   "nbconvert_exporter": "python",
   "pygments_lexer": "ipython3",
   "version": "3.7.3"
  }
 },
 "nbformat": 4,
 "nbformat_minor": 2
}

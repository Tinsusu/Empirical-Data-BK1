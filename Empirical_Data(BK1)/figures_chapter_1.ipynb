{
 "cells": [
  {
   "cell_type": "markdown",
   "metadata": {},
   "source": [
    "# Notebook: Characterization\n",
    "First we import the matplotlib and pandas modules."
   ]
  },
  {
   "cell_type": "code",
   "execution_count": 3,
   "metadata": {},
   "outputs": [],
   "source": [
    "%matplotlib inline\n",
    "import matplotlib.pyplot as plt\n",
    "import numpy as np\n",
    "import pandas as pd"
   ]
  },
  {
   "cell_type": "markdown",
   "metadata": {},
   "source": [
    "## MAO activity in schizophrenic patients.\n",
    "The dot plot is unfortunatly not implimented in the Pandas package, but is implomented in the below `side_by_side_dot_plot`. The reader is not expected to understand this code, but can use the function by copying it to a cell in a notebook."
   ]
  },
  {
   "cell_type": "code",
   "execution_count": 4,
   "metadata": {},
   "outputs": [],
   "source": [
    "def side_by_side_dot_plot(df):\n",
    "    ''' Side-by-side dot plot of a Pandas dataframe, df '''\n",
    "    from numpy import ones\n",
    "    from matplotlib.pyplot import xticks, xlim\n",
    "    for idx, (label, series) in enumerate(df.iteritems()):\n",
    "        plt.plot(ones(len(series))*idx, series, 'o')\n",
    "    xticks(range(df.ndim+1), df.columns)\n",
    "    xlim(-0.5, len(df.columns)-0.5)"
   ]
  },
  {
   "cell_type": "code",
   "execution_count": 6,
   "metadata": {},
   "outputs": [
    {
     "data": {
      "text/html": [
       "<div>\n",
       "<style scoped>\n",
       "    .dataframe tbody tr th:only-of-type {\n",
       "        vertical-align: middle;\n",
       "    }\n",
       "\n",
       "    .dataframe tbody tr th {\n",
       "        vertical-align: top;\n",
       "    }\n",
       "\n",
       "    .dataframe thead th {\n",
       "        text-align: right;\n",
       "    }\n",
       "</style>\n",
       "<table border=\"1\" class=\"dataframe\">\n",
       "  <thead>\n",
       "    <tr style=\"text-align: right;\">\n",
       "      <th></th>\n",
       "      <th>Group I</th>\n",
       "      <th>Group II</th>\n",
       "      <th>Group III</th>\n",
       "    </tr>\n",
       "  </thead>\n",
       "  <tbody>\n",
       "    <tr>\n",
       "      <th>0</th>\n",
       "      <td>6.8</td>\n",
       "      <td>7.8</td>\n",
       "      <td>6.4</td>\n",
       "    </tr>\n",
       "    <tr>\n",
       "      <th>1</th>\n",
       "      <td>4.1</td>\n",
       "      <td>4.4</td>\n",
       "      <td>10.8</td>\n",
       "    </tr>\n",
       "    <tr>\n",
       "      <th>2</th>\n",
       "      <td>7.3</td>\n",
       "      <td>11.4</td>\n",
       "      <td>1.1</td>\n",
       "    </tr>\n",
       "    <tr>\n",
       "      <th>3</th>\n",
       "      <td>14.2</td>\n",
       "      <td>3.1</td>\n",
       "      <td>2.9</td>\n",
       "    </tr>\n",
       "    <tr>\n",
       "      <th>4</th>\n",
       "      <td>18.8</td>\n",
       "      <td>4.3</td>\n",
       "      <td>4.5</td>\n",
       "    </tr>\n",
       "    <tr>\n",
       "      <th>5</th>\n",
       "      <td>9.9</td>\n",
       "      <td>10.1</td>\n",
       "      <td>5.8</td>\n",
       "    </tr>\n",
       "    <tr>\n",
       "      <th>6</th>\n",
       "      <td>7.4</td>\n",
       "      <td>1.5</td>\n",
       "      <td>9.4</td>\n",
       "    </tr>\n",
       "    <tr>\n",
       "      <th>7</th>\n",
       "      <td>11.9</td>\n",
       "      <td>7.4</td>\n",
       "      <td>6.8</td>\n",
       "    </tr>\n",
       "    <tr>\n",
       "      <th>8</th>\n",
       "      <td>5.2</td>\n",
       "      <td>5.2</td>\n",
       "      <td>NaN</td>\n",
       "    </tr>\n",
       "    <tr>\n",
       "      <th>9</th>\n",
       "      <td>7.8</td>\n",
       "      <td>10.0</td>\n",
       "      <td>NaN</td>\n",
       "    </tr>\n",
       "    <tr>\n",
       "      <th>10</th>\n",
       "      <td>7.8</td>\n",
       "      <td>3.7</td>\n",
       "      <td>NaN</td>\n",
       "    </tr>\n",
       "    <tr>\n",
       "      <th>11</th>\n",
       "      <td>8.7</td>\n",
       "      <td>5.5</td>\n",
       "      <td>NaN</td>\n",
       "    </tr>\n",
       "    <tr>\n",
       "      <th>12</th>\n",
       "      <td>12.7</td>\n",
       "      <td>8.5</td>\n",
       "      <td>NaN</td>\n",
       "    </tr>\n",
       "    <tr>\n",
       "      <th>13</th>\n",
       "      <td>14.5</td>\n",
       "      <td>7.7</td>\n",
       "      <td>NaN</td>\n",
       "    </tr>\n",
       "    <tr>\n",
       "      <th>14</th>\n",
       "      <td>10.7</td>\n",
       "      <td>6.8</td>\n",
       "      <td>NaN</td>\n",
       "    </tr>\n",
       "    <tr>\n",
       "      <th>15</th>\n",
       "      <td>8.4</td>\n",
       "      <td>3.1</td>\n",
       "      <td>NaN</td>\n",
       "    </tr>\n",
       "    <tr>\n",
       "      <th>16</th>\n",
       "      <td>9.7</td>\n",
       "      <td>NaN</td>\n",
       "      <td>NaN</td>\n",
       "    </tr>\n",
       "    <tr>\n",
       "      <th>17</th>\n",
       "      <td>10.6</td>\n",
       "      <td>NaN</td>\n",
       "      <td>NaN</td>\n",
       "    </tr>\n",
       "  </tbody>\n",
       "</table>\n",
       "</div>"
      ],
      "text/plain": [
       "    Group I  Group II  Group III\n",
       "0       6.8       7.8        6.4\n",
       "1       4.1       4.4       10.8\n",
       "2       7.3      11.4        1.1\n",
       "3      14.2       3.1        2.9\n",
       "4      18.8       4.3        4.5\n",
       "5       9.9      10.1        5.8\n",
       "6       7.4       1.5        9.4\n",
       "7      11.9       7.4        6.8\n",
       "8       5.2       5.2        NaN\n",
       "9       7.8      10.0        NaN\n",
       "10      7.8       3.7        NaN\n",
       "11      8.7       5.5        NaN\n",
       "12     12.7       8.5        NaN\n",
       "13     14.5       7.7        NaN\n",
       "14     10.7       6.8        NaN\n",
       "15      8.4       3.1        NaN\n",
       "16      9.7       NaN        NaN\n",
       "17     10.6       NaN        NaN"
      ]
     },
     "execution_count": 6,
     "metadata": {},
     "output_type": "execute_result"
    }
   ],
   "source": [
    "# Table 1: MAO activity in schizophrenic patients.\n",
    "group_I = pd.Series([6.8, 4.1, 7.3, 14.2, 18.8,\n",
    "                     9.9, 7.4, 11.9, 5.2, 7.8,\n",
    "                     7.8, 8.7, 12.7, 14.5, 10.7,\n",
    "                     8.4, 9.7, 10.6], \n",
    "                    name='Group I')\n",
    "group_II = pd.Series([7.8, 4.4, 11.4, 3.1, 4.3,\n",
    "                      10.1, 1.5, 7.4, 5.2, 10.0,\n",
    "                      3.7, 5.5, 8.5, 7.7, 6.8,\n",
    "                      3.1], \n",
    "                     name='Group II')\n",
    "group_III = pd.Series([6.4, 10.8, 1.1, 2.9, 4.5,\n",
    "                       5.8, 9.4, 6.8], \n",
    "                      name='Group III')\n",
    "table_1 = pd.concat([group_I, group_II, group_III], axis='columns')\n",
    "table_1"
   ]
  },
  {
   "cell_type": "code",
   "execution_count": 20,
   "metadata": {},
   "outputs": [
    {
     "data": {
      "image/png": "[encoded data removed]",
      "text/plain": [
       "<Figure size 180x216 with 1 Axes>"
      ]
     },
     "metadata": {
      "needs_background": "light"
     },
     "output_type": "display_data"
    }
   ],
   "source": [
    "# Figure 1: MAO activity in schizophrenic patients\n",
    "plt.figure(figsize=(2.5, 3))\n",
    "side_by_side_dot_plot(table_1)\n",
    "plt.ylabel('MAO activity')\n",
    "plt.savefig(\n",
    "    'MAO_fig.png',\n",
    "    dpi=200,\n",
    "    bbox_inches='tight')\n",
    "plt.show()"
   ]
  },
  {
   "cell_type": "markdown",
   "metadata": {},
   "source": [
    "## ATP concentration in birch tree roots"
   ]
  },
  {
   "cell_type": "code",
   "execution_count": 24,
   "metadata": {},
   "outputs": [
    {
     "data": {
      "text/html": [
       "<div>\n",
       "<style scoped>\n",
       "    .dataframe tbody tr th:only-of-type {\n",
       "        vertical-align: middle;\n",
       "    }\n",
       "\n",
       "    .dataframe tbody tr th {\n",
       "        vertical-align: top;\n",
       "    }\n",
       "\n",
       "    .dataframe thead th {\n",
       "        text-align: right;\n",
       "    }\n",
       "</style>\n",
       "<table border=\"1\" class=\"dataframe\">\n",
       "  <thead>\n",
       "    <tr style=\"text-align: right;\">\n",
       "      <th></th>\n",
       "      <th>Flooded</th>\n",
       "      <th>Control</th>\n",
       "    </tr>\n",
       "  </thead>\n",
       "  <tbody>\n",
       "    <tr>\n",
       "      <th>0</th>\n",
       "      <td>1.45</td>\n",
       "      <td>1.70</td>\n",
       "    </tr>\n",
       "    <tr>\n",
       "      <th>1</th>\n",
       "      <td>1.19</td>\n",
       "      <td>2.04</td>\n",
       "    </tr>\n",
       "    <tr>\n",
       "      <th>2</th>\n",
       "      <td>1.05</td>\n",
       "      <td>1.49</td>\n",
       "    </tr>\n",
       "    <tr>\n",
       "      <th>3</th>\n",
       "      <td>1.07</td>\n",
       "      <td>1.91</td>\n",
       "    </tr>\n",
       "  </tbody>\n",
       "</table>\n",
       "</div>"
      ],
      "text/plain": [
       "   Flooded  Control\n",
       "0     1.45     1.70\n",
       "1     1.19     2.04\n",
       "2     1.05     1.49\n",
       "3     1.07     1.91"
      ]
     },
     "execution_count": 24,
     "metadata": {},
     "output_type": "execute_result"
    }
   ],
   "source": [
    "# Table 2: ATP concentration in birch tree roots\n",
    "s1 = pd.Series([1.45, 1.19, 1.05, 1.07], name='Flooded')\n",
    "s2 = pd.Series([1.70, 2.04, 1.49, 1.91], name='Control')\n",
    "table_2 = pd.concat([s1, s2], axis=1)\n",
    "table_2"
   ]
  },
  {
   "cell_type": "code",
   "execution_count": 22,
   "metadata": {},
   "outputs": [
    {
     "data": {
      "image/png": "[encoded data removed]",
      "text/plain": [
       "<Figure size 144x216 with 1 Axes>"
      ]
     },
     "metadata": {
      "needs_background": "light"
     },
     "output_type": "display_data"
    }
   ],
   "source": [
    "# Figure 2: ATP concentration in birch tree roots\n",
    "plt.figure(figsize=(2, 3))\n",
    "side_by_side_dot_plot(table_2)\n",
    "plt.ylabel('ATP concentration (nmol/mg)')\n",
    "plt.savefig(\n",
    "    'ATP_fig.png',\n",
    "    dpi=200,\n",
    "    bbox_inches='tight'\n",
    ")\n",
    "plt.show()"
   ]
  }
 ],
 "metadata": {
  "kernelspec": {
   "display_name": "Python 3",
   "language": "python",
   "name": "python3"
  },
  "language_info": {
   "codemirror_mode": {
    "name": "ipython",
    "version": 3
   },
   "file_extension": ".py",
   "mimetype": "text/x-python",
   "name": "python",
   "nbconvert_exporter": "python",
   "pygments_lexer": "ipython3",
   "version": "3.7.3"
  }
 },
 "nbformat": 4,
 "nbformat_minor": 2
}
